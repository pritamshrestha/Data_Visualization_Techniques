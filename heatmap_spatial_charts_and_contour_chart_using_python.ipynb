{
 "cells": [
  {
   "cell_type": "code",
   "execution_count": 83,
   "metadata": {},
   "outputs": [],
   "source": [
    "# importing libraries\n",
    "import pandas as pd\n",
    "import numpy as np\n",
    "import matplotlib.pyplot as plt\n",
    "%matplotlib inline\n",
    "import seaborn as sns\n"
   ]
  },
  {
   "cell_type": "code",
   "execution_count": 6,
   "metadata": {},
   "outputs": [
    {
     "data": {
      "text/html": [
       "<div>\n",
       "<style scoped>\n",
       "    .dataframe tbody tr th:only-of-type {\n",
       "        vertical-align: middle;\n",
       "    }\n",
       "\n",
       "    .dataframe tbody tr th {\n",
       "        vertical-align: top;\n",
       "    }\n",
       "\n",
       "    .dataframe thead th {\n",
       "        text-align: right;\n",
       "    }\n",
       "</style>\n",
       "<table border=\"1\" class=\"dataframe\">\n",
       "  <thead>\n",
       "    <tr style=\"text-align: right;\">\n",
       "      <th></th>\n",
       "      <th>Name</th>\n",
       "      <th>G</th>\n",
       "      <th>MIN</th>\n",
       "      <th>PTS</th>\n",
       "      <th>FGM</th>\n",
       "      <th>FGA</th>\n",
       "      <th>FGP</th>\n",
       "      <th>FTM</th>\n",
       "      <th>FTA</th>\n",
       "      <th>FTP</th>\n",
       "      <th>...</th>\n",
       "      <th>3PA</th>\n",
       "      <th>3PP</th>\n",
       "      <th>ORB</th>\n",
       "      <th>DRB</th>\n",
       "      <th>TRB</th>\n",
       "      <th>AST</th>\n",
       "      <th>STL</th>\n",
       "      <th>BLK</th>\n",
       "      <th>TO</th>\n",
       "      <th>PF</th>\n",
       "    </tr>\n",
       "  </thead>\n",
       "  <tbody>\n",
       "    <tr>\n",
       "      <th>0</th>\n",
       "      <td>Dwyane Wade</td>\n",
       "      <td>79</td>\n",
       "      <td>38.6</td>\n",
       "      <td>30.2</td>\n",
       "      <td>10.8</td>\n",
       "      <td>22.0</td>\n",
       "      <td>0.491</td>\n",
       "      <td>7.5</td>\n",
       "      <td>9.8</td>\n",
       "      <td>0.765</td>\n",
       "      <td>...</td>\n",
       "      <td>3.5</td>\n",
       "      <td>0.317</td>\n",
       "      <td>1.1</td>\n",
       "      <td>3.9</td>\n",
       "      <td>5.0</td>\n",
       "      <td>7.5</td>\n",
       "      <td>2.2</td>\n",
       "      <td>1.3</td>\n",
       "      <td>3.4</td>\n",
       "      <td>2.3</td>\n",
       "    </tr>\n",
       "    <tr>\n",
       "      <th>1</th>\n",
       "      <td>LeBron James</td>\n",
       "      <td>81</td>\n",
       "      <td>37.7</td>\n",
       "      <td>28.4</td>\n",
       "      <td>9.7</td>\n",
       "      <td>19.9</td>\n",
       "      <td>0.489</td>\n",
       "      <td>7.3</td>\n",
       "      <td>9.4</td>\n",
       "      <td>0.780</td>\n",
       "      <td>...</td>\n",
       "      <td>4.7</td>\n",
       "      <td>0.344</td>\n",
       "      <td>1.3</td>\n",
       "      <td>6.3</td>\n",
       "      <td>7.6</td>\n",
       "      <td>7.2</td>\n",
       "      <td>1.7</td>\n",
       "      <td>1.1</td>\n",
       "      <td>3.0</td>\n",
       "      <td>1.7</td>\n",
       "    </tr>\n",
       "    <tr>\n",
       "      <th>2</th>\n",
       "      <td>Kobe Bryant</td>\n",
       "      <td>82</td>\n",
       "      <td>36.2</td>\n",
       "      <td>26.8</td>\n",
       "      <td>9.8</td>\n",
       "      <td>20.9</td>\n",
       "      <td>0.467</td>\n",
       "      <td>5.9</td>\n",
       "      <td>6.9</td>\n",
       "      <td>0.856</td>\n",
       "      <td>...</td>\n",
       "      <td>4.1</td>\n",
       "      <td>0.351</td>\n",
       "      <td>1.1</td>\n",
       "      <td>4.1</td>\n",
       "      <td>5.2</td>\n",
       "      <td>4.9</td>\n",
       "      <td>1.5</td>\n",
       "      <td>0.5</td>\n",
       "      <td>2.6</td>\n",
       "      <td>2.3</td>\n",
       "    </tr>\n",
       "    <tr>\n",
       "      <th>3</th>\n",
       "      <td>Dirk Nowitzki</td>\n",
       "      <td>81</td>\n",
       "      <td>37.7</td>\n",
       "      <td>25.9</td>\n",
       "      <td>9.6</td>\n",
       "      <td>20.0</td>\n",
       "      <td>0.479</td>\n",
       "      <td>6.0</td>\n",
       "      <td>6.7</td>\n",
       "      <td>0.890</td>\n",
       "      <td>...</td>\n",
       "      <td>2.1</td>\n",
       "      <td>0.359</td>\n",
       "      <td>1.1</td>\n",
       "      <td>7.3</td>\n",
       "      <td>8.4</td>\n",
       "      <td>2.4</td>\n",
       "      <td>0.8</td>\n",
       "      <td>0.8</td>\n",
       "      <td>1.9</td>\n",
       "      <td>2.2</td>\n",
       "    </tr>\n",
       "    <tr>\n",
       "      <th>4</th>\n",
       "      <td>Danny Granger</td>\n",
       "      <td>67</td>\n",
       "      <td>36.2</td>\n",
       "      <td>25.8</td>\n",
       "      <td>8.5</td>\n",
       "      <td>19.1</td>\n",
       "      <td>0.447</td>\n",
       "      <td>6.0</td>\n",
       "      <td>6.9</td>\n",
       "      <td>0.878</td>\n",
       "      <td>...</td>\n",
       "      <td>6.7</td>\n",
       "      <td>0.404</td>\n",
       "      <td>0.7</td>\n",
       "      <td>4.4</td>\n",
       "      <td>5.1</td>\n",
       "      <td>2.7</td>\n",
       "      <td>1.0</td>\n",
       "      <td>1.4</td>\n",
       "      <td>2.5</td>\n",
       "      <td>3.1</td>\n",
       "    </tr>\n",
       "  </tbody>\n",
       "</table>\n",
       "<p>5 rows × 21 columns</p>\n",
       "</div>"
      ],
      "text/plain": [
       "           Name     G   MIN   PTS   FGM   FGA    FGP  FTM  FTA    FTP  ...  \\\n",
       "0    Dwyane Wade   79  38.6  30.2  10.8  22.0  0.491  7.5  9.8  0.765  ...   \n",
       "1   LeBron James   81  37.7  28.4   9.7  19.9  0.489  7.3  9.4  0.780  ...   \n",
       "2    Kobe Bryant   82  36.2  26.8   9.8  20.9  0.467  5.9  6.9  0.856  ...   \n",
       "3  Dirk Nowitzki   81  37.7  25.9   9.6  20.0  0.479  6.0  6.7  0.890  ...   \n",
       "4  Danny Granger   67  36.2  25.8   8.5  19.1  0.447  6.0  6.9  0.878  ...   \n",
       "\n",
       "   3PA    3PP  ORB  DRB  TRB  AST  STL  BLK   TO   PF  \n",
       "0  3.5  0.317  1.1  3.9  5.0  7.5  2.2  1.3  3.4  2.3  \n",
       "1  4.7  0.344  1.3  6.3  7.6  7.2  1.7  1.1  3.0  1.7  \n",
       "2  4.1  0.351  1.1  4.1  5.2  4.9  1.5  0.5  2.6  2.3  \n",
       "3  2.1  0.359  1.1  7.3  8.4  2.4  0.8  0.8  1.9  2.2  \n",
       "4  6.7  0.404  0.7  4.4  5.1  2.7  1.0  1.4  2.5  3.1  \n",
       "\n",
       "[5 rows x 21 columns]"
      ]
     },
     "execution_count": 6,
     "metadata": {},
     "output_type": "execute_result"
    }
   ],
   "source": [
    "#Reading datasets\n",
    "df=pd.read_csv(\"ppg2008.csv\")\n",
    "df.head()"
   ]
  },
  {
   "cell_type": "code",
   "execution_count": 8,
   "metadata": {},
   "outputs": [
    {
     "data": {
      "text/html": [
       "<div>\n",
       "<style scoped>\n",
       "    .dataframe tbody tr th:only-of-type {\n",
       "        vertical-align: middle;\n",
       "    }\n",
       "\n",
       "    .dataframe tbody tr th {\n",
       "        vertical-align: top;\n",
       "    }\n",
       "\n",
       "    .dataframe thead th {\n",
       "        text-align: right;\n",
       "    }\n",
       "</style>\n",
       "<table border=\"1\" class=\"dataframe\">\n",
       "  <thead>\n",
       "    <tr style=\"text-align: right;\">\n",
       "      <th></th>\n",
       "      <th>Address</th>\n",
       "      <th>City</th>\n",
       "      <th>State</th>\n",
       "      <th>Zip Code</th>\n",
       "      <th>Latitude</th>\n",
       "      <th>Longitude</th>\n",
       "    </tr>\n",
       "  </thead>\n",
       "  <tbody>\n",
       "    <tr>\n",
       "      <th>0</th>\n",
       "      <td>1205 N. Memorial Parkway</td>\n",
       "      <td>Huntsville</td>\n",
       "      <td>Alabama</td>\n",
       "      <td>35801-5930</td>\n",
       "      <td>34.743095</td>\n",
       "      <td>-86.600955</td>\n",
       "    </tr>\n",
       "    <tr>\n",
       "      <th>1</th>\n",
       "      <td>3650 Galleria Circle</td>\n",
       "      <td>Hoover</td>\n",
       "      <td>Alabama</td>\n",
       "      <td>35244-2346</td>\n",
       "      <td>33.377649</td>\n",
       "      <td>-86.812420</td>\n",
       "    </tr>\n",
       "    <tr>\n",
       "      <th>2</th>\n",
       "      <td>8251 Eastchase Parkway</td>\n",
       "      <td>Montgomery</td>\n",
       "      <td>Alabama</td>\n",
       "      <td>36117</td>\n",
       "      <td>32.363889</td>\n",
       "      <td>-86.150884</td>\n",
       "    </tr>\n",
       "    <tr>\n",
       "      <th>3</th>\n",
       "      <td>5225 Commercial Boulevard</td>\n",
       "      <td>Juneau</td>\n",
       "      <td>Alaska</td>\n",
       "      <td>99801-7210</td>\n",
       "      <td>58.359200</td>\n",
       "      <td>-134.483000</td>\n",
       "    </tr>\n",
       "    <tr>\n",
       "      <th>4</th>\n",
       "      <td>330 West Dimond Blvd</td>\n",
       "      <td>Anchorage</td>\n",
       "      <td>Alaska</td>\n",
       "      <td>99515-1950</td>\n",
       "      <td>61.143266</td>\n",
       "      <td>-149.884217</td>\n",
       "    </tr>\n",
       "  </tbody>\n",
       "</table>\n",
       "</div>"
      ],
      "text/plain": [
       "                     Address        City    State    Zip Code   Latitude  \\\n",
       "0   1205 N. Memorial Parkway  Huntsville  Alabama  35801-5930  34.743095   \n",
       "1       3650 Galleria Circle      Hoover  Alabama  35244-2346  33.377649   \n",
       "2     8251 Eastchase Parkway  Montgomery  Alabama       36117  32.363889   \n",
       "3  5225 Commercial Boulevard      Juneau   Alaska  99801-7210  58.359200   \n",
       "4       330 West Dimond Blvd   Anchorage   Alaska  99515-1950  61.143266   \n",
       "\n",
       "    Longitude  \n",
       "0  -86.600955  \n",
       "1  -86.812420  \n",
       "2  -86.150884  \n",
       "3 -134.483000  \n",
       "4 -149.884217  "
      ]
     },
     "execution_count": 8,
     "metadata": {},
     "output_type": "execute_result"
    }
   ],
   "source": [
    "# reading another datasets\n",
    "df1=pd.read_csv(\"costcos-geocoded.csv\")\n",
    "df1.head()"
   ]
  },
  {
   "cell_type": "code",
   "execution_count": 40,
   "metadata": {},
   "outputs": [
    {
     "data": {
      "text/plain": [
       "Text(0.5, 1, 'Heat map of few ariables based on the correlation')"
      ]
     },
     "execution_count": 40,
     "metadata": {},
     "output_type": "execute_result"
    },
    {
     "data": {
      "image/png": "[encoded data removed]",
      "text/plain": [
       "<Figure size 936x360 with 2 Axes>"
      ]
     },
     "metadata": {
      "needs_background": "light"
     },
     "output_type": "display_data"
    }
   ],
   "source": [
    "data=df[['G','MIN','PTS','FGM','FGA','FGP','FTM','FTA','FTP']]\n",
    "plt.figure(figsize=(13,5))\n",
    "sns.heatmap(data.corr(),annot=True)\n",
    "plt.title(\"Heat map of few ariables based on the correlation\")"
   ]
  },
  {
   "cell_type": "code",
   "execution_count": 56,
   "metadata": {},
   "outputs": [
    {
     "data": {
      "application/vnd.plotly.v1+json": {
       "config": {
        "plotlyServerURL": "https://plot.ly"
       },
       "data": [
        {
         "lat": [
          34.743094899999996,
          33.377649,
          32.363889,
          58.3592,
          61.143266000000004,
          61.210815000000004,
          34.548992999999996,
          32.326217699999994,
          32.2522189,
          33.643277000000005,
          33.296095,
          33.347289,
          33.624134399999996,
          33.376244,
          33.293696000000004,
          33.3886808,
          33.670943,
          33.659688,
          33.49179,
          33.5206919,
          33.473335,
          33.467156,
          33.600961,
          32.7789832,
          40.586449,
          39.7214025,
          38.4677597,
          38.597139,
          38.6699409,
          38.588195,
          38.780609999999996,
          38.645206,
          38.6903,
          40.7919385,
          38.420456200000004,
          37.7003612,
          37.3019943,
          37.784874,
          38.018791,
          37.3886293,
          37.253214,
          37.309657,
          36.985104,
          37.357021,
          38.087238,
          37.898773999999996,
          38.133192,
          38.215406,
          37.718174100000006,
          37.702588,
          37.667516,
          37.503123200000005,
          37.78259,
          38.009119,
          37.561366,
          37.770488,
          37.372027,
          37.64223079999999,
          37.6654356,
          37.420676,
          36.617070500000004,
          36.703939,
          36.80989,
          36.792187,
          34.66129,
          34.936541,
          35.251917,
          36.292806,
          34.427890000000005,
          34.2251071,
          33.87567,
          33.8899732,
          33.773511,
          33.862449,
          33.7282,
          33.699689,
          33.703448,
          33.5569565,
          33.469498,
          33.657000599999996,
          33.935555,
          33.696337,
          34.068044,
          34.5155574,
          32.8152064,
          33.79963920000001,
          32.987241,
          32.712739,
          33.1879309,
          32.840641999999995,
          32.93649,
          33.1201381,
          32.773971,
          32.608954499999996,
          32.637276,
          34.089515000000006,
          34.112139,
          34.083039,
          33.994075,
          34.078576,
          34.014463,
          34.131982,
          34.185739,
          34.181613,
          34.4027129,
          34.152307,
          34.230765000000005,
          34.218644,
          33.804317299999994,
          33.850463,
          33.919958,
          34.032917,
          33.932029,
          33.800813,
          33.943257,
          33.992576,
          33.898804999999996,
          34.1285583,
          38.3506756,
          37.519131,
          37.7510679,
          37.008207,
          38.352725899999996,
          37.616322100000005,
          37.478656,
          36.839426,
          35.297271,
          35.384837,
          33.567617999999996,
          33.521227,
          34.137557,
          33.704896000000005,
          32.823495799999996,
          32.816251,
          34.272589399999994,
          33.803183399999995,
          33.918618,
          33.994758600000004,
          39.64338720000001,
          38.892736,
          39.5580896,
          39.561203000000006,
          39.638284999999996,
          39.644445000000005,
          39.862237,
          39.9576167,
          39.991358,
          39.690471,
          39.790074,
          38.9037505,
          41.091945700000004,
          41.4422731,
          41.542671999999996,
          41.249660999999996,
          41.9936047,
          39.677735999999996,
          26.411955,
          26.220259999999996,
          26.489631,
          26.544446999999998,
          27.921490999999996,
          26.5872905,
          26.681031400000002,
          26.808351899999998,
          26.096903899999997,
          25.655668,
          25.909564000000003,
          25.774109,
          26.273566,
          26.009617000000002,
          25.923451,
          28.404252000000003,
          28.59907,
          28.661867200000003,
          30.4606461,
          30.252071,
          27.9604528,
          34.932647700000004,
          34.0620378,
          33.8816153,
          33.927816,
          33.572052,
          34.009217799999995,
          33.947764,
          34.090513,
          33.8709805,
          19.687344,
          21.282117,
          21.418893100000002,
          21.966535500000003,
          20.887082,
          21.3272958,
          21.318473899999997,
          47.7080223,
          43.585487,
          43.615175,
          42.591998,
          42.905739000000004,
          42.014665,
          41.7600708,
          41.929772899999996,
          41.845569,
          41.6011911,
          42.0565401,
          42.178880799999995,
          41.939683200000005,
          42.187135,
          41.744338799999994,
          41.7265993,
          41.9073026,
          41.9091302,
          42.0831646,
          42.240048,
          42.1090138,
          41.4738435,
          39.916734999999996,
          39.913779,
          41.562810999999996,
          38.95885,
          38.906906,
          38.316367299999996,
          38.973144500000004,
          39.4018344,
          39.358195,
          39.15582,
          39.186369,
          39.2035401,
          39.155646000000004,
          37.228312,
          38.6645584,
          42.395066,
          42.136598,
          42.230996000000005,
          37.226693,
          42.13216,
          42.4017251,
          42.910564,
          42.875818,
          42.7070854,
          42.6295851,
          42.606916,
          42.432885,
          42.3813419,
          42.5044786,
          42.5161919,
          42.4959314,
          42.534006,
          45.198543799999996,
          44.967625399999996,
          45.09298,
          44.8603208,
          45.029375,
          44.7481179,
          39.0682148,
          39.037203399999996,
          38.797261999999996,
          38.506797999999996,
          38.597951,
          48.174177,
          46.89293,
          45.71334,
          46.616615,
          45.755016299999994,
          41.265223999999996,
          39.1123484,
          39.503102,
          39.579204,
          36.1633476,
          36.278946000000005,
          36.172128799999996,
          36.06985,
          42.7023,
          40.5317305,
          40.5644881,
          40.0547573,
          39.950586799999996,
          39.707209999999996,
          40.80968529999999,
          40.906896,
          40.4194098,
          40.876239,
          40.88724129999999,
          40.6931,
          40.830625,
          35.068225,
          35.19547,
          35.136386,
          40.862057,
          40.757604,
          40.773266,
          40.806752200000005,
          40.743347,
          40.630782399999994,
          40.6554813,
          40.7673216,
          41.107253,
          40.896403,
          40.9749617,
          40.57268,
          40.7333304,
          40.997205,
          40.7953918,
          34.247172799999994,
          35.162075,
          35.130096,
          36.028911,
          35.818255,
          36.058064,
          36.064731,
          39.2956999,
          39.288171999999996,
          41.524169799999996,
          41.677335799999994,
          40.150574,
          41.31307929999999,
          41.461881,
          44.057266999999996,
          42.368775899999996,
          44.089117,
          44.6391268,
          44.918976,
          45.559288,
          45.4367116,
          45.535709000000004,
          45.332949,
          45.429738,
          45.509085,
          43.259025799999996,
          46.1472442,
          40.2391985,
          40.091369,
          40.052357,
          40.3098913,
          40.691215,
          40.406792200000005,
          40.4581284,
          34.83608579999999,
          33.705698,
          32.7953856,
          34.9370256,
          35.046563899999995,
          35.192040000000006,
          36.1392669,
          35.963436,
          30.3968644,
          29.576287,
          29.598390999999996,
          29.9536092,
          29.787754999999997,
          29.732782899999997,
          32.6775654,
          32.9419217,
          32.6846619,
          33.023989,
          33.044137899999996,
          32.9952011,
          31.783496999999997,
          29.611904,
          32.620946,
          32.9087304,
          37.122515,
          41.197413,
          40.6903769,
          40.730657,
          40.282244299999995,
          40.550667499999996,
          40.389719,
          40.889379,
          40.6577119,
          44.5034,
          37.106044,
          36.851561,
          37.438778000000006,
          37.642294,
          38.428596999999996,
          39.157827000000005,
          38.8624735,
          38.642245,
          38.739883,
          38.849315000000004,
          39.115223,
          39.023821000000005,
          38.895106899999995,
          38.783572,
          38.293479,
          47.681717,
          46.4229672,
          46.225654,
          47.658358,
          47.724927,
          46.562354,
          47.401812,
          45.684942,
          47.05934,
          46.996336,
          47.238296999999996,
          47.224683,
          47.656571,
          48.077069200000004,
          48.077069200000004,
          47.156471999999994,
          48.147560999999996,
          48.453882,
          48.797450700000006,
          47.903556,
          47.445595000000004,
          47.5649224,
          47.77567,
          47.779015,
          47.82549,
          47.551216499999995,
          47.2869797,
          45.6212994,
          47.3577482,
          47.354838,
          43.100195,
          43.3246907
         ],
         "locationmode": "USA-states",
         "lon": [
          -86.6009553,
          -86.81241999999999,
          -86.15088399999999,
          -134.483,
          -149.884217,
          -149.804337,
          -112.3954274,
          -111.0491606,
          -110.859554,
          -112.233474,
          -111.74564699999999,
          -111.96186200000001,
          -111.90191180000001,
          -111.84076499999999,
          -111.89950900000001,
          -111.6675437,
          -112.028124,
          -112.11584099999999,
          -112.12837900000001,
          -112.09518899999999,
          -111.98553100000001,
          -112.274404,
          -111.98379299999999,
          -117.1269067,
          -122.345675,
          -121.8096578,
          -121.41540690000001,
          -121.452409,
          -121.7259571,
          -121.263769,
          -121.267423,
          -121.10959799999999,
          -121.29858999999999,
          -124.1825438,
          -122.7134804,
          -121.06713859999999,
          -120.49400120000001,
          -121.26001399999998,
          -121.29275700000001,
          -121.8829132,
          -121.879999,
          -121.85157099999999,
          -122.033615,
          -121.93884299999999,
          -122.551076,
          -122.320125,
          -122.21374499999999,
          -122.14491100000001,
          -122.1809332,
          -121.812265,
          -122.10278000000001,
          -121.9748814,
          -121.972853,
          -121.83790400000001,
          -122.275144,
          -122.411106,
          -121.99477900000001,
          -122.4010744,
          -122.44908570000001,
          -122.09506100000002,
          -121.8474767,
          -121.668608,
          -119.874081,
          -119.71434199999999,
          -118.15142900000001,
          -120.42083999999998,
          -120.69101299999998,
          -119.30663799999999,
          -119.874572,
          -119.14856699999999,
          -117.74385,
          -117.5208947,
          -117.940271,
          -117.92211,
          -117.79629399999999,
          -117.82261799999999,
          -117.931978,
          -117.67887579999999,
          -117.677697,
          -117.7397337,
          -117.276579,
          -117.33918200000001,
          -117.263077,
          -117.31964280000001,
          -115.5700028,
          -116.3819564,
          -117.077675,
          -117.11613,
          -117.2767568,
          -116.987356,
          -117.033125,
          -117.3165503,
          -117.024305,
          -117.08095259999999,
          -117.022199,
          -118.148531,
          -117.82633,
          -117.690661,
          -117.92200000000001,
          -117.54827140000002,
          -117.74181499999999,
          -117.92568100000001,
          -118.324045,
          -118.46401000000002,
          -118.4550432,
          -118.79713100000001,
          -118.551069,
          -118.59611899999999,
          -118.166725,
          -118.136453,
          -118.102519,
          -118.09746299999999,
          -117.96978600000001,
          -118.34993,
          -118.33385600000001,
          -118.446821,
          -118.372745,
          -118.26367959999999,
          -121.98177079999999,
          -120.888552,
          -121.47509099999999,
          -121.55644699999999,
          -122.717092,
          -122.08895090000001,
          -122.216527,
          -119.78773999999999,
          -119.058275,
          -119.048452,
          -117.71157099999999,
          -117.154362,
          -117.442672,
          -116.272801,
          -117.22828510000001,
          -117.153631,
          -118.4276271,
          -118.038976,
          -118.342576,
          -118.14306140000001,
          -106.8885487,
          -104.71771,
          -104.7758852,
          -104.874753,
          -105.082856,
          -105.006451,
          -105.0661949,
          -105.16992979999999,
          -104.98316299999999,
          -104.86808,
          -105.082637,
          -104.81721359999999,
          -73.4515808,
          -73.40512790000001,
          -72.96866750000001,
          -73.023977,
          -72.5754399,
          -75.64737,
          -80.1008839,
          -81.77492,
          -81.785933,
          -81.8742089,
          -82.330936,
          -80.0726927,
          -80.2195563,
          -80.0879667,
          -80.2509582,
          -80.41206899999999,
          -80.156203,
          -80.330536,
          -80.148255,
          -80.360331,
          -80.29870600000001,
          -81.40671,
          -81.30024,
          -81.4176945,
          -84.2124709,
          -81.533776,
          -82.7275752,
          -85.2547988,
          -83.9943156,
          -84.46943590000001,
          -84.352462,
          -84.333989,
          -84.5686483,
          -84.143039,
          -84.277902,
          -84.33502829999999,
          -156.017457,
          -157.7119219,
          -158.00638480000003,
          -159.3799149,
          -156.45136399999998,
          -158.08810830000002,
          -157.870711,
          -116.7819023,
          -116.27668600000001,
          -116.59278400000001,
          -114.46563950000001,
          -112.46893100000001,
          -87.7815541,
          -87.7418497,
          -87.67704470000001,
          -87.964888,
          -87.86182559999999,
          -88.0449252,
          -88.3387302,
          -88.1323182,
          -88.093412,
          -88.2058422,
          -88.03255659999999,
          -88.34001909999999,
          -87.8367543,
          -87.9332458,
          -87.90571609999999,
          -87.8214507,
          -87.3218679,
          -86.22622700000001,
          -86.06179300000001,
          -93.804976,
          -94.733002,
          -94.670999,
          -85.57286409999999,
          -76.8160858,
          -77.40753640000001,
          -76.444565,
          -76.730744,
          -76.793645,
          -76.5939428,
          -77.214124,
          -77.39030009999999,
          -76.8747015,
          -71.265264,
          -71.066458,
          -71.17497,
          -77.401371,
          -72.620485,
          -71.06952640000002,
          -85.542713,
          -85.76385,
          -83.2963467,
          -82.98076999999999,
          -83.293322,
          -83.430471,
          -83.332026,
          -83.7594455,
          -83.117129,
          -82.9371897,
          -83.444799,
          -93.3502188,
          -93.3495534,
          -93.424382,
          -93.4358767,
          -93.039964,
          -93.2934839,
          -94.5815625,
          -94.3551426,
          -90.607339,
          -90.3408851,
          -90.506914,
          -114.29897,
          -114.03735800000001,
          -111.07065300000001,
          -112.0049737,
          -108.5727142,
          -96.10534,
          -119.8451288,
          -119.785095,
          -119.73879199999999,
          -115.3318905,
          -115.209445,
          -115.1608236,
          -115.03716599999998,
          -71.443126,
          -74.37662370000001,
          -74.55530809999999,
          -74.1563178,
          -74.87611319999999,
          -74.287661,
          -74.381266,
          -74.569445,
          -74.17051359999999,
          -74.038818,
          -74.2541309,
          -74.2873,
          -74.1366964,
          -106.53038500000001,
          -106.66139,
          -106.614209,
          -73.130236,
          -73.42063399999999,
          -73.050016,
          -73.2865925,
          -73.601117,
          -73.7398576,
          -74.00907420000001,
          -73.9375771,
          -74.025274,
          -73.7938571,
          -73.86129050000001,
          -74.168663,
          -73.86357170000001,
          -73.66156099999999,
          -73.93185159999999,
          -77.87389959999999,
          -80.88395799999999,
          -80.70474200000001,
          -78.914527,
          -78.622315,
          -79.883838,
          -80.317952,
          -84.3032,
          -84.4510214,
          -81.4467262,
          -83.6241301,
          -82.976965,
          -81.8162777,
          -82.012682,
          -121.26761599999999,
          -122.858378,
          -123.06635,
          -123.06581399999999,
          -122.995309,
          -122.523747,
          -122.75647959999999,
          -122.9355,
          -122.76409299999999,
          -122.571376,
          -122.84191899999999,
          -123.3513746,
          -123.91740359999999,
          -75.2351214,
          -75.385931,
          -76.256924,
          -76.79965059999999,
          -80.107991,
          -79.9195722,
          -80.1671087,
          -82.311008,
          -78.915906,
          -80.03696540000001,
          -81.9906978,
          -89.7972209,
          -89.794989,
          -86.885891,
          -86.818149,
          -97.7456423,
          -98.59715600000001,
          -98.27791500000001,
          -95.54681090000001,
          -95.529263,
          -95.43895649999999,
          -97.4087829,
          -97.1121332,
          -97.11274859999999,
          -96.831701,
          -96.699179,
          -96.9648545,
          -106.410297,
          -98.474805,
          -96.910279,
          -96.4454985,
          -113.523381,
          -111.97937250000001,
          -111.9541263,
          -111.90293999999999,
          -111.6798494,
          -111.8934445,
          -111.8229955,
          -111.89510800000001,
          -111.889873,
          -73.173988,
          -76.49655899999999,
          -76.19968100000001,
          -77.587539,
          -77.561159,
          -78.85613000000001,
          -78.15792900000001,
          -77.0567423,
          -77.29444699999999,
          -77.197301,
          -77.37178399999999,
          -77.533198,
          -77.401854,
          -77.44302090000001,
          -77.51642690000001,
          -77.515701,
          -122.18208600000001,
          -117.04427220000001,
          -119.23524599999999,
          -117.332852,
          -117.41148899999999,
          -120.499306,
          -120.28045900000001,
          -122.60471799999999,
          -122.760723,
          -122.916699,
          -122.37395500000001,
          -122.469182,
          -122.680673,
          -123.1254206,
          -123.1254206,
          -122.308125,
          -122.19123700000002,
          -122.33803799999998,
          -122.4882889,
          -122.209275,
          -122.24833999999998,
          -122.3304533,
          -122.344819,
          -122.1484548,
          -122.30991499999999,
          -122.0528913,
          -122.31352009999999,
          -122.45913459999998,
          -122.6038876,
          -122.12118500000001,
          -89.522751,
          -87.9216153
         ],
         "marker": {
          "color": "red"
         },
         "mode": "markers",
         "text": [
          [
           "1205 N. Memorial Parkway",
           "Huntsville",
           "Alabama"
          ],
          [
           "3650 Galleria Circle",
           "Hoover",
           "Alabama"
          ],
          [
           "8251 Eastchase Parkway",
           "Montgomery",
           "Alabama"
          ],
          [
           "5225 Commercial Boulevard",
           "Juneau",
           "Alaska"
          ],
          [
           "330 West Dimond Blvd",
           "Anchorage",
           "Alaska"
          ],
          [
           "4125 DeBarr Road",
           "Anchorage",
           "Alaska"
          ],
          [
           "3911 Highway 69",
           "Prescott",
           "Arizona"
          ],
          [
           "3901 West Costco Drive",
           "Tucson",
           "Arizona"
          ],
          [
           "6255 East Grant Road",
           "Tucson",
           "Arizona"
          ],
          [
           "17550 N. 79th Ave.",
           "Glendale",
           "Arizona"
          ],
          [
           "2887 S Market St",
           "Gilbert",
           "Arizona"
          ],
          [
           "1445 West Elliot Road",
           "Tempe",
           "Arizona"
          ],
          [
           "15255 North Hayden Road",
           "Scottsdale",
           "Arizona"
          ],
          [
           "1415 North Arizona Avenue",
           "Gilbert",
           "Arizona"
          ],
          [
           "595 S Galleria Way",
           "Chandler",
           "Arizona"
          ],
          [
           "1444 S Sossaman Rd",
           "Mesa",
           "Arizona"
          ],
          [
           "2450 E Beardsley Rd",
           "Phoenix",
           "Arizona"
          ],
          [
           "19001 N. 27th Ave",
           "Phoenix",
           "Arizona"
          ],
          [
           "3801 N. 33rd Avenue",
           "Phoenix",
           "Arizona"
          ],
          [
           "1646 W. Montebello",
           "Phoenix",
           "Arizona"
          ],
          [
           "4502 East Oak Street",
           "Phoenix",
           "Arizona"
          ],
          [
           "10000 W. McDowell Road",
           "Avondale",
           "Arizona"
          ],
          [
           "4570 E Cactus Rd",
           "Phoenix",
           "Arizona"
          ],
          [
           "2345 Fenton Pkwy",
           "San Diego",
           "California"
          ],
          [
           "1300 Dana Drive",
           "Redding",
           "California"
          ],
          [
           "2100 Dr Martin Luther King Jr Way",
           "Chico",
           "California"
          ],
          [
           "7981 East Stockton Boulevard",
           "Sacramento",
           "California"
          ],
          [
           "1600 Expo Parkway",
           "Sacramento",
           "California"
          ],
          [
           "2299 Bronze Star Drive",
           "Woodland",
           "California"
          ],
          [
           "11260 White Rock Road",
           "Rancho Cordova",
           "California"
          ],
          [
           "6750 Stanford Ranch Road",
           "Roseville",
           "California"
          ],
          [
           "1800 Cavitt Court",
           "Folsom",
           "California"
          ],
          [
           "7000 Auburn Blvd",
           "Citrus Heights",
           "California"
          ],
          [
           "1006 West Wabash Avenue",
           "Eureka",
           "California"
          ],
          [
           "1900 Santa Rosa Avenue",
           "Santa Rosa",
           "California"
          ],
          [
           "3801 Pelandale Ave.",
           "Modesto",
           "California"
          ],
          [
           "1445 R Street",
           "Merced",
           "California"
          ],
          [
           "2440 Daniels St",
           "Manteca",
           "California"
          ],
          [
           "1616 East Hammer Lane",
           "Stockton",
           "California"
          ],
          [
           "1709 Automation Parkway",
           "San Jose",
           "California"
          ],
          [
           "5301 Almaden Expressway",
           "San Jose",
           "California"
          ],
          [
           "2201 Senter Road",
           "San Jose",
           "California"
          ],
          [
           "220 Sylvania Avenue",
           "Santa Cruz",
           "California"
          ],
          [
           "1601 Coleman Avenue",
           "Santa Clara",
           "California"
          ],
          [
           "300 Vintage Way",
           "Novato",
           "California"
          ],
          [
           "4801 Central Avenue",
           "Richmond",
           "California"
          ],
          [
           "198 Plaza Drive",
           "Vallejo",
           "California"
          ],
          [
           "5101 Business Center Drive",
           "Fairfield",
           "California"
          ],
          [
           "1900 Davis Street",
           "San Leandro",
           "California"
          ],
          [
           "2800 Independence Drive",
           "Livermore",
           "California"
          ],
          [
           "22330 Hathaway Avenue",
           "Hayward",
           "California"
          ],
          [
           "43621 Pacific Commons Blvd",
           "Fremont",
           "California"
          ],
          [
           "3150 Fostoria Way",
           "Danville",
           "California"
          ],
          [
           "2201 Verne Roberts Circle",
           "Antioch",
           "California"
          ],
          [
           "1001 Metro Center Boulevard",
           "Foster City",
           "California"
          ],
          [
           "450 10th Street",
           "San Francisco",
           "California"
          ],
          [
           "150 Lawrence Station Road",
           "Sunnyvale",
           "California"
          ],
          [
           "451 South Airport Boulevard",
           "South San Francisco",
           "California"
          ],
          [
           "1600 El Camino Real",
           "South San Francisco",
           "California"
          ],
          [
           "1000 North Rengstorff Avenue",
           "Mountain View",
           "California"
          ],
          [
           "801 Tioga Avenue",
           "Sand City",
           "California"
          ],
          [
           "1339 North Davis Road",
           "Salinas",
           "California"
          ],
          [
           "4500 W Shaw",
           "Fresno",
           "California"
          ],
          [
           "380 West Ashlan Avenue",
           "Clovis",
           "California"
          ],
          [
           "1141 West Avenue L",
           "Lancaster",
           "California"
          ],
          [
           "1335 South Bradley",
           "Santa Maria",
           "California"
          ],
          [
           "1540 Froom Ranch Way",
           "San Luis Obispo",
           "California"
          ],
          [
           "1405 W Cameron Ave",
           "Visalia",
           "California"
          ],
          [
           "7095 Market Place Drive",
           "Goleta",
           "California"
          ],
          [
           "2001 East Ventura Boulevard",
           "Oxnard",
           "California"
          ],
          [
           "22633 Savi Ranch Parkway",
           "Yorba Linda",
           "California"
          ],
          [
           "480 McKinley Street",
           "Corona",
           "California"
          ],
          [
           "11000 Garden Grove Boulevard",
           "Garden Grove",
           "California"
          ],
          [
           "900 South Harbor Boulevard",
           "Fullerton",
           "California"
          ],
          [
           "2655 El Camino Real",
           "Tustin",
           "California"
          ],
          [
           "2700 Park Ave",
           "Tustin",
           "California"
          ],
          [
           "17900 Newhope Street",
           "Fountain Valley",
           "California"
          ],
          [
           "27972 Cabot Road",
           "Laguna Niguel",
           "California"
          ],
          [
           "33961 Doheny Park Road",
           "San Juan Capistrano",
           "California"
          ],
          [
           "115 Technology West Drive",
           "Irvine",
           "California"
          ],
          [
           "12700 Day Street",
           "Moreno Valley",
           "California"
          ],
          [
           "29315 Central Ave",
           "Lake Elsinore",
           "California"
          ],
          [
           "1099 East Hospitality Lane",
           "San Bernardino",
           "California"
          ],
          [
           "14555 Valley Center Drive",
           "Victorville",
           "California"
          ],
          [
           "2030 North Imperial Avenue",
           "El Centro",
           "California"
          ],
          [
           "72-800 Dinah Shore Drive",
           "Palm Desert",
           "California"
          ],
          [
           "12350 Carmel Mountain Road",
           "San Diego",
           "California"
          ],
          [
           "650 Gateway Center Drive",
           "San Diego",
           "California"
          ],
          [
           "1755 Hacienda Drive",
           "Vista",
           "California"
          ],
          [
           "101 Town Center Parkway",
           "Santee",
           "California"
          ],
          [
           "12155 Tech Center Drive",
           "Poway",
           "California"
          ],
          [
           "951 Palomar Airport Road",
           "Carlsbad",
           "California"
          ],
          [
           "8125 Fletcher Parkway",
           "La Mesa",
           "California"
          ],
          [
           "1130 Broadway",
           "Chula Vista",
           "California"
          ],
          [
           "895 East H Street",
           "Chula Vista",
           "California"
          ],
          [
           "2207 West Commonwealth Avenue",
           "Alhambra",
           "California"
          ],
          [
           "520 N Lone Hill Ave",
           "San Dimas",
           "California"
          ],
          [
           "9404 Central Avenue",
           "Montclair",
           "California"
          ],
          [
           "17550 Castleton St.",
           "City of Industry",
           "California"
          ],
          [
           "11800 4th Street",
           "Rancho Cucamonga",
           "California"
          ],
          [
           "13111 Peyton Drive",
           "Chino Hills",
           "California"
          ],
          [
           "1220 West Foothill Boulevard",
           "Azusa",
           "California"
          ],
          [
           "1051 Burbank Blvd.",
           "Burbank",
           "California"
          ],
          [
           "6100 Sepulveda Boulevard",
           "Van Nuys",
           "California"
          ],
          [
           "18649 Via Princessa",
           "Santa Clarita",
           "California"
          ],
          [
           "5700 Lindero Canyon Road",
           "Westlake Village",
           "California"
          ],
          [
           "8810 Tampa Avenue",
           "Northridge",
           "California"
          ],
          [
           "21300 Roscoe Boulevard",
           "Canoga Park",
           "California"
          ],
          [
           "2200 East Willow Street",
           "Signal Hill",
           "California"
          ],
          [
           "340 Lakewood Center Mall",
           "Lakewood",
           "California"
          ],
          [
           "12324 Hoxie Avenue",
           "Norwalk",
           "California"
          ],
          [
           "1345 North Montebello Boulevard",
           "Montebello",
           "California"
          ],
          [
           "101 N Beach Blvd",
           "La Habra",
           "California"
          ],
          [
           "2751 Sky Park Drive",
           "Torrance",
           "California"
          ],
          [
           "3560 West Century Blvd",
           "Inglewood",
           "California"
          ],
          [
           "13463 Washington Boulevard",
           "Marina del Rey",
           "California"
          ],
          [
           "14501 Hindry Avenue",
           "Hawthorne",
           "California"
          ],
          [
           "2901 Los Feliz Boulevard",
           "Los Angeles",
           "California"
          ],
          [
           "1051 Hume Way",
           "Vacaville",
           "California"
          ],
          [
           "2955 North Tegner Road",
           "Turlock",
           "California"
          ],
          [
           "3250 W. Grant Line Road",
           "Tracy",
           "California"
          ],
          [
           "7251 Camino Arroyo",
           "Gilroy",
           "California"
          ],
          [
           "5901 Redwood Drive",
           "Rohnert Park",
           "California"
          ],
          [
           "28505 Hesperian Blvd",
           "Hayward",
           "California"
          ],
          [
           "2300 Middlefield Rd",
           "Redwood City",
           "California"
          ],
          [
           "7100 N. Abby Street",
           "Fresno",
           "California"
          ],
          [
           "4900 Panama Lane",
           "Bakersfield",
           "California"
          ],
          [
           "3800 Rosedale Highway",
           "Bakersfield",
           "California"
          ],
          [
           "27220 Heather Ridge Road",
           "Laguna Niguel",
           "California"
          ],
          [
           "26610 Ynez Road",
           "Temecula",
           "California"
          ],
          [
           "16505 Sierra Lakes Parkway",
           "Fontana",
           "California"
          ],
          [
           "79795 Hwy 111",
           "La Quinta",
           "California"
          ],
          [
           "4605 Morena Boulevard",
           "San Diego",
           "California"
          ],
          [
           "7803 Othello Ave",
           "San Diego",
           "California"
          ],
          [
           "13550 W Paxton St",
           "Pacoima",
           "California"
          ],
          [
           "5401 Katella Ave",
           "Cypress",
           "California"
          ],
          [
           "12530 Prairie Ave",
           "Hawthorne",
           "California"
          ],
          [
           "6333 Telegraph Rd",
           "Commerce",
           "California"
          ],
          [
           "170 Cooley Mesa Rd",
           "Gypsum",
           "Colorado"
          ],
          [
           "5885 Barnes Road",
           "Colorado Springs",
           "Colorado"
          ],
          [
           "18414 Cottonwood Dr",
           "Parker",
           "Colorado"
          ],
          [
           "8686 Park Meadows Center Drive",
           "Littleton",
           "Colorado"
          ],
          [
           "7900 West Quincy Avenue",
           "Littleton",
           "Colorado"
          ],
          [
           "4000 River Point Parkway",
           "Sheridan",
           "Colorado"
          ],
          [
           "6400 West 92nd Avenue",
           "Westminster",
           "Colorado"
          ],
          [
           "600 Marshall Road",
           "Superior",
           "Colorado"
          ],
          [
           "16375 N Washington St",
           "Thornton",
           "Colorado"
          ],
          [
           "1471 South Havana",
           "Aurora",
           "Colorado"
          ],
          [
           "5195 Wadsworth Blvd.",
           "Arvada",
           "Colorado"
          ],
          [
           "5050 N Nevada Ave",
           "Colorado Springs",
           "Colorado"
          ],
          [
           "779 Connecticut Ave",
           "Norwalk",
           "Connecticut"
          ],
          [
           "200 Federal Road",
           "Brookfield",
           "Connecticut"
          ],
          [
           "3600 East Main Street",
           "Waterbury",
           "Connecticut"
          ],
          [
           "1718 Boston Post Road",
           "Milford",
           "Connecticut"
          ],
          [
           "75 Freshwater Blvd",
           "Enfield",
           "Connecticut"
          ],
          [
           "900 Center Boulevard",
           "Newark",
           "Delaware"
          ],
          [
           "17800 Congress Avenue",
           "Boca Raton",
           "Florida"
          ],
          [
           "6275 Naples Boulevard",
           "Naples",
           "Florida"
          ],
          [
           "10088 Gulf Center Drive",
           "Fort Myers",
           "Florida"
          ],
          [
           "7171 Cypress Lake Drive",
           "Fort Myers",
           "Florida"
          ],
          [
           "10921 Causeway Blvd.",
           "Brandon",
           "Florida"
          ],
          [
           "1873 West Lantana Road",
           "Lantana",
           "Florida"
          ],
          [
           "11001 Southern Blvd - Ste 160",
           "Royal Palm Beach",
           "Florida"
          ],
          [
           "3250 Northlake Boulevard",
           "Lake Park",
           "Florida"
          ],
          [
           "1890 South University Drive",
           "Davie",
           "Florida"
          ],
          [
           "13450 SW 120th St",
           "Kendall",
           "Florida"
          ],
          [
           "14585 Biscayne Boulevard",
           "North Miami Beach",
           "Florida"
          ],
          [
           "8300 Park Boulevard",
           "Miami",
           "Florida"
          ],
          [
           "1800 West Sample Road",
           "Pompano Beach",
           "Florida"
          ],
          [
           "15915 Pines Blvd",
           "Pembroke Pines",
           "Florida"
          ],
          [
           "16580 NW 59th Avenue",
           "Miami",
           "Florida"
          ],
          [
           "2101 Water Bridge Blvd",
           "Orlando",
           "Florida"
          ],
          [
           "3333 University Boulevard",
           "Winter Park",
           "Florida"
          ],
          [
           "741 Orange Avenue",
           "Altamonte Springs",
           "Florida"
          ],
          [
           "4067 Lagniappe Way",
           "Tallahassee",
           "Florida"
          ],
          [
           "4901 Gate Parkway",
           "Jacksonville",
           "Florida"
          ],
          [
           "2655 Gulf to Bay Blvd.",
           "Clearwater",
           "Florida"
          ],
          [
           "100 Cobb Parkway",
           "Ringgold",
           "Georgia"
          ],
          [
           "1550 Mall of Georgia Blvd",
           "Buford",
           "Georgia"
          ],
          [
           "2900 Cumberland Mall",
           "Atlanta",
           "Georgia"
          ],
          [
           "6350 Peachtree Dunwoody Rd N.E.",
           "Atlanta",
           "Georgia"
          ],
          [
           "1700 Mount Zion Road",
           "Morrow",
           "Georgia"
          ],
          [
           "645 Barrett Parkway",
           "Kennesaw",
           "Georgia"
          ],
          [
           "3980 Venture Drive",
           "Duluth",
           "Georgia"
          ],
          [
           "2855 Jordan Ct",
           "Alpharetta",
           "Georgia"
          ],
          [
           "500 Brookhaven Ave",
           "Atlanta",
           "Georgia"
          ],
          [
           "73-5600 Maiau Street",
           "Kailua-Kona (Hawaii)",
           "Hawaii"
          ],
          [
           "333A Keahole Street",
           "Honolulu (Oahu)",
           "Hawaii"
          ],
          [
           "94-1231 Ka Uka Blvd",
           "Waipahu (Oahu)",
           "Hawaii"
          ],
          [
           "4300 Nuhou St",
           "Lihue",
           "Hawaii"
          ],
          [
           "540 Haleakala Highway",
           "Kahului (Maui)",
           "Hawaii"
          ],
          [
           "4589 Kapolei Parkway",
           "Kapolei (Oahu)",
           "Hawaii"
          ],
          [
           "525 Alakawa Street",
           "Iwilei (Oahu)",
           "Hawaii"
          ],
          [
           "355 East Neider Avenue",
           "Coeur D\\'Alene",
           "Idaho"
          ],
          [
           "2051 S. Cole Road",
           "Boise",
           "Idaho"
          ],
          [
           "16700 N Marketplace Blvd",
           "Nampa",
           "Idaho"
          ],
          [
           "731 Pole Line Road",
           "Twin Falls",
           "Idaho"
          ],
          [
           "305 West Quinn Rd",
           "Pocatello",
           "Idaho"
          ],
          [
           "7311 North Melvina Ave",
           "Niles",
           "Illinois"
          ],
          [
           "7300 S. Cicero Ave",
           "Bedford Park",
           "Illinois"
          ],
          [
           "2746 N. Clybourn Avenue",
           "Chicago",
           "Illinois"
          ],
          [
           "1901 West 22nd Street",
           "Oak Brook",
           "Illinois"
          ],
          [
           "9915 W 159th St",
           "Orland Park",
           "Illinois"
          ],
          [
           "1375 North Meacham Rd",
           "Schaumburg",
           "Illinois"
          ],
          [
           "250 N. Randall Rd.",
           "Lake in the Hills",
           "Illinois"
          ],
          [
           "505 W. Army Trail Road",
           "Bloomingdale",
           "Illinois"
          ],
          [
           "680 S. Rand Road",
           "Lake Zurich",
           "Illinois"
          ],
          [
           "1320 S. Route 59",
           "Naperville",
           "Illinois"
          ],
          [
           "830 E Boughton Rd",
           "Bolingbrook",
           "Illinois"
          ],
          [
           "221 S. Randall Rd",
           "St. Charles",
           "Illinois"
          ],
          [
           "8400 W North Ave",
           "Melrose Park",
           "Illinois"
          ],
          [
           "999 N. Elmhurst Road",
           "Mount Prospect",
           "Illinois"
          ],
          [
           "25901 Riverwoods Rd",
           "Mettawa",
           "Illinois"
          ],
          [
           "2900 Patriot Blvd",
           "Glenview",
           "Illinois"
          ],
          [
           "1310 E. 79th Ave",
           "Merrillville",
           "Indiana"
          ],
          [
           "9010 Michigan Road",
           "Indianapolis",
           "Indiana"
          ],
          [
           "6110 East 86th Street",
           "Castleton",
           "Indiana"
          ],
          [
           "7205 Mills Civic Parkway",
           "West Des Moines",
           "Iowa"
          ],
          [
           "9350 Marshall Drive",
           "Lenexa",
           "Kansas"
          ],
          [
           "12221 Blue Valley Parkway",
           "Overland Park",
           "Kansas"
          ],
          [
           "5020 Norton Healthcare Blvd",
           "Louisville",
           "Kentucky"
          ],
          [
           "2400 Five Lees Lane",
           "Lanham",
           "Maryland"
          ],
          [
           "10 Monocacy Blvd.",
           "Frederick",
           "Maryland"
          ],
          [
           "9919 Pulaski Highway",
           "Baltimore",
           "Maryland"
          ],
          [
           "7077 Arundel Mills Circle",
           "Hanover",
           "Maryland"
          ],
          [
           "6675 Marie Curie Drive",
           "Elkridge",
           "Maryland"
          ],
          [
           "575 East Ordnance Road",
           "Glen Burnie",
           "Maryland"
          ],
          [
           "880 Russell Avenue",
           "Gaithersburg",
           "Maryland"
          ],
          [
           "10925 Baltimore Avenue (Route 1)",
           "Beltsville",
           "Maryland"
          ],
          [
           "16006 Crain Highway SE",
           "Brandywine",
           "Maryland"
          ],
          [
           "71 Second Avenue",
           "Waltham",
           "Massachusetts"
          ],
          [
           "120 Stockwell Drive",
           "Avon",
           "Massachusetts"
          ],
          [
           "400 Commercial Circle",
           "Dedham",
           "Massachusetts"
          ],
          [
           "11 Newbury Street (Route 1)",
           "Danvers",
           "Massachusetts"
          ],
          [
           "119 Daggett Drive",
           "West Springfield",
           "Massachusetts"
          ],
          [
           "2 Mystic View Road",
           "Everett",
           "Massachusetts"
          ],
          [
           "5100 28th Street SE",
           "Grand Rapids",
           "Michigan"
          ],
          [
           "4901 Wilson Avenue",
           "Wyoming",
           "Michigan"
          ],
          [
           "400 Brown Road",
           "Auburn Hills",
           "Michigan"
          ],
          [
           "45460 Market Street",
           "Shelby Township",
           "Michigan"
          ],
          [
           "2343 South Telegraph Rd",
           "Bloomfield",
           "Michigan"
          ],
          [
           "20000 Haggerty Rd",
           "Livonia",
           "Michigan"
          ],
          [
           "13700 Middlebelt Road",
           "Livonia",
           "Michigan"
          ],
          [
           "6700 Whitmore Lake Rd",
           "Brighton",
           "Michigan"
          ],
          [
           "30550 Stephenson Highway",
           "Madison Heights",
           "Michigan"
          ],
          [
           "27118 Gratiot Avenue",
           "Roseville",
           "Michigan"
          ],
          [
           "3000 Commerce Crossing",
           "Commerce Tnshp",
           "Michigan"
          ],
          [
           "12547 Riverdale Blvd.",
           "Coon Rapids",
           "Minnesota"
          ],
          [
           "5801 16th Street West",
           "St. Louis Park",
           "Minnesota"
          ],
          [
           "11330 Fountains Dr N",
           "Maple Grove",
           "Minnesota"
          ],
          [
           "12011 Technology Drive",
           "Eden Prairie",
           "Minnesota"
          ],
          [
           "1431 Beam Ave",
           "Maplewood",
           "Minnesota"
          ],
          [
           "14050 Burnhaven Dr",
           "Burnsville",
           "Minnesota"
          ],
          [
           "241 East Linwood Blvd",
           "Kansas City",
           "Missouri"
          ],
          [
           "19040 E. Valley View Pkwy",
           "Independence",
           "Missouri"
          ],
          [
           "200 Costco Way",
           "St. Peters",
           "Missouri"
          ],
          [
           "4200 Rusty Road",
           "St. Louis",
           "Missouri"
          ],
          [
           "301 Highlands Blvd Drive",
           "Manchester",
           "Missouri"
          ],
          [
           "2330 US Highway 93 N",
           "Kalispell",
           "Montana"
          ],
          [
           "3220 Northern Pacific Avenue",
           "Missoula",
           "Montana"
          ],
          [
           "2505 Catron Street",
           "Bozeman",
           "Montana"
          ],
          [
           "2195 E Custer Ave",
           "Helena",
           "Montana"
          ],
          [
           "2290 King Avenue West",
           "Billings",
           "Montana"
          ],
          [
           "12300 West Dodge Rd",
           "Omaha",
           "Nebraska"
          ],
          [
           "700 Old Clear Creek Road",
           "Carson City",
           "Nevada"
          ],
          [
           "2200 Harvard Way",
           "Reno",
           "Nevada"
          ],
          [
           "4810 Galleria Parkway",
           "Sparks",
           "Nevada"
          ],
          [
           "801 S. Pavilion Center Drive",
           "Las Vegas",
           "Nevada"
          ],
          [
           "6555 N Decatur Blvd",
           "Las Vegas",
           "Nevada"
          ],
          [
           "222 S Martin Luther King Blvd",
           "Las Vegas",
           "Nevada"
          ],
          [
           "791 Marks Street",
           "Henderson",
           "Nevada"
          ],
          [
           "311 Daniel Webster Highway",
           "Nashua",
           "New Hampshire"
          ],
          [
           "2210 Route 27 North",
           "Edison",
           "New Jersey"
          ],
          [
           "325 Promenade Blvd.",
           "Bridgewater",
           "New Jersey"
          ],
          [
           "465 Route 70",
           "Brick",
           "New Jersey"
          ],
          [
           "100 Centerton Road",
           "Mount Laurel",
           "New Jersey"
          ],
          [
           "245 Stafford Park Blvd",
           "Stafford Township",
           "New Jersey"
          ],
          [
           "156 SR-10 West",
           "East Hanover",
           "New Jersey"
          ],
          [
           "315 Route 15",
           "Wharton",
           "New Jersey"
          ],
          [
           "2835 Route 35 South",
           "Hazlet",
           "New Jersey"
          ],
          [
           "80 South River Street",
           "Hackensack",
           "New Jersey"
          ],
          [
           "77 Willowbrook Boulevard",
           "Wayne",
           "New Jersey"
          ],
          [
           "1055 Hudson St",
           "Union",
           "New Jersey"
          ],
          [
           "20 Bridewell Place",
           "Clifton",
           "New Jersey"
          ],
          [
           "500 Eubank Blvd SE",
           "Albuquerque",
           "New Mexico"
          ],
          [
           "9955 Coors Bypass NW",
           "Albuquerque",
           "New Mexico"
          ],
          [
           "1420 Renaissance Boulevard NE",
           "Albuquerque",
           "New Mexico"
          ],
          [
           "3000 Middle Country Road",
           "Nesconset",
           "New York"
          ],
          [
           "625 Broadhollow Road",
           "Melville",
           "New York"
          ],
          [
           "125 Beacon Drive",
           "Holbrook",
           "New York"
          ],
          [
           "10 Garret Place",
           "Commack",
           "New York"
          ],
          [
           "1250 Old Country Road",
           "Westbury",
           "New York"
          ],
          [
           "605 Rockaway Turnpike",
           "Lawrence",
           "New York"
          ],
          [
           "976 3rd Avenue",
           "Brooklyn",
           "New York"
          ],
          [
           "32-50 Vernon Boulevard",
           "Long Island City",
           "New York"
          ],
          [
           "50 Overlook Boulevard",
           "Nanuet",
           "New York"
          ],
          [
           "1 Industrial Lane",
           "New Rochelle",
           "New York"
          ],
          [
           "20 Stew Leonard Drive",
           "Yonkers",
           "New York"
          ],
          [
           "2975 Richmond Avenue",
           "Staten Island",
           "New York"
          ],
          [
           "61-35 Junction Boulevard",
           "Rego Park",
           "New York"
          ],
          [
           "1 Westchester Ave.",
           "Port Chester",
           "New York"
          ],
          [
           "517 E 117th St",
           "New York",
           "New York"
          ],
          [
           "5351 Gingerwood Dr",
           "Wilmington",
           "North Carolina"
          ],
          [
           "500 Tyvola Road",
           "Charlotte",
           "North Carolina"
          ],
          [
           "2125 Matthews Township Pkwy",
           "Matthews",
           "North Carolina"
          ],
          [
           "1510 North Pointe Drive",
           "Durham",
           "North Carolina"
          ],
          [
           "2838 Wake Forest Rd",
           "Raleigh",
           "North Carolina"
          ],
          [
           "4201 West Wendover Ave",
           "Greensboro",
           "North Carolina"
          ],
          [
           "1085 Hanes Mall Blvd.",
           "Winston Salem",
           "North Carolina"
          ],
          [
           "9691 Waterstone Blvd",
           "Cincinnati",
           "Ohio"
          ],
          [
           "1100 East Kemper Road",
           "Springdale",
           "Ohio"
          ],
          [
           "1409 Golden Gate Blvd.",
           "Cleveland",
           "Ohio"
          ],
          [
           "3405 West Central Ave",
           "Toledo",
           "Ohio"
          ],
          [
           "1500 Gemini Place",
           "Columbus",
           "Ohio"
          ],
          [
           "16690 Royalton Rd",
           "Strongsville",
           "Ohio"
          ],
          [
           "35804 Detroit Road",
           "Avon",
           "Ohio"
          ],
          [
           "2500 Northeast Highway 20",
           "Bend",
           "Oregon"
          ],
          [
           "3639 Crater Lake Highway",
           "Medford",
           "Oregon"
          ],
          [
           "2828 Chad Drive",
           "Eugene",
           "Oregon"
          ],
          [
           "3130 Killdeer Ave",
           "Albany",
           "Oregon"
          ],
          [
           "1010 Hawthorne Avenue SE",
           "Salem",
           "Oregon"
          ],
          [
           "4849 NE 138th Ave",
           "Portland",
           "Oregon"
          ],
          [
           "7855 SW Dartmouth Ave",
           "Tigard",
           "Oregon"
          ],
          [
           "1255 NE 48th Ave",
           "Hillsboro",
           "Oregon"
          ],
          [
           "25900 SW Heather Place",
           "Wilsonville",
           "Oregon"
          ],
          [
           "13130 SE 84th Avenue",
           "Clackamas",
           "Oregon"
          ],
          [
           "15901 SW Jenkins",
           "Aloha",
           "Oregon"
          ],
          [
           "4141 NE Stephens",
           "Roseburg",
           "Oregon"
          ],
          [
           "1804 SE Ensign Lane",
           "Warrenton",
           "Oregon"
          ],
          [
           "740 Upper State Road",
           "North Wales",
           "Pennsylvania"
          ],
          [
           "201 Allendale Road",
           "King of Prussia",
           "Pennsylvania"
          ],
          [
           "1875 Hempstead Road",
           "Lancaster",
           "Pennsylvania"
          ],
          [
           "5125 Jonestown Road Suite 221",
           "Harrisburg",
           "Pennsylvania"
          ],
          [
           "1050 Cranberry Square Drive",
           "Cranberry Township",
           "Pennsylvania"
          ],
          [
           "501 W Waterfront Dr",
           "West Homestead",
           "Pennsylvania"
          ],
          [
           "202 Costco Drive",
           "Pittsburgh",
           "Pennsylvania"
          ],
          [
           "1021 Woodruff Rd",
           "Greenville",
           "South Carolina"
          ],
          [
           "1021 Oak Forest Lane",
           "Myrtle Beach",
           "South Carolina"
          ],
          [
           "3050 Ashley Town Center",
           "Charleston",
           "South Carolina"
          ],
          [
           "211 W Blackstock Rd",
           "Spartanburg",
           "South Carolina"
          ],
          [
           "3775 Hacks Cross Road",
           "Memphis",
           "Tennessee"
          ],
          [
           "2431 North Germantown Parkway",
           "Cordova",
           "Tennessee"
          ],
          [
           "6670 Charlotte Pike",
           "Nashville",
           "Tennessee"
          ],
          [
           "98 Seaboard Lane",
           "Brentwood",
           "Tennessee"
          ],
          [
           "10401 Research Blvd",
           "Austin",
           "Texas"
          ],
          [
           "5611 Utsa Blvd",
           "San Antonio",
           "Texas"
          ],
          [
           "15330 IH-35 North",
           "Selma",
           "Texas"
          ],
          [
           "12405 N. Gessner Rd.",
           "Houston",
           "Texas"
          ],
          [
           "1150 Bunker Hill Road",
           "Houston",
           "Texas"
          ],
          [
           "3836 Richmond Ave",
           "Houston",
           "Texas"
          ],
          [
           "5300 Overton Ridge Blvd",
           "Fort Worth",
           "Texas"
          ],
          [
           "2601 E. State Hwy 114",
           "Southlake",
           "Texas"
          ],
          [
           "600 West Arbrook Blvd",
           "Arlington",
           "Texas"
          ],
          [
           "1701 Dallas Pkwy",
           "Plano",
           "Texas"
          ],
          [
           "3800 N. Central Expressway",
           "Plano",
           "Texas"
          ],
          [
           "851 S. State Hwy 121",
           "Lewisville",
           "Texas"
          ],
          [
           "6101 Gateway West Blvd",
           "El Paso",
           "Texas"
          ],
          [
           "1201 N. Loop 1604 East",
           "San Antonio",
           "Texas"
          ],
          [
           "250 West Highway 67",
           "Duncanville",
           "Texas"
          ],
          [
           "1225 State Hwy 276",
           "Rockwall",
           "Texas"
          ],
          [
           "835 North 3050 East",
           "St. George",
           "Utah"
          ],
          [
           "3656 Wall Avenue",
           "Ogden",
           "Utah"
          ],
          [
           "3747 South 2700 West",
           "West Valley",
           "Utah"
          ],
          [
           "1818 South 300 West",
           "Salt Lake City",
           "Utah"
          ],
          [
           "648 East 800 South",
           "Orem",
           "Utah"
          ],
          [
           "11100 S. Auto Mall Drive",
           "Sandy",
           "Utah"
          ],
          [
           "198 North 1200 East",
           "Lehi",
           "Utah"
          ],
          [
           "573 West 100 North",
           "West Bountiful",
           "Utah"
          ],
          [
           "5201 South Intermountain Drive",
           "Murray",
           "Utah"
          ],
          [
           "218 Lower Mountain View Drive",
           "Colchester",
           "Vermont"
          ],
          [
           "12121 Jefferson Avenue",
           "Newport News",
           "Virginia"
          ],
          [
           "850 Glenrock Road",
           "Norfolk",
           "Virginia"
          ],
          [
           "3700 Price Club Boulevard",
           "Midlothian",
           "Virginia"
          ],
          [
           "9650 West Broad Street",
           "Glen Allen",
           "Virginia"
          ],
          [
           "1830 Reservoir Street",
           "Harrisonburg",
           "Virginia"
          ],
          [
           "251 Front Royal Pike",
           "Winchester",
           "Virginia"
          ],
          [
           "1200 South Fern Street",
           "Arlington",
           "Virginia"
          ],
          [
           "2700 Potomac Mills Circle - Ste 200",
           "Woodbridge",
           "Virginia"
          ],
          [
           "7373 Boston Boulevard",
           "Springfield",
           "Virginia"
          ],
          [
           "4725 West Ox Road",
           "Fairfax",
           "Virginia"
          ],
          [
           "1300 Edwards Ferry Road",
           "Leesburg",
           "Virginia"
          ],
          [
           "21398 Price/Cascades Plaza",
           "Sterling",
           "Virginia"
          ],
          [
           "14390 Chantilly Crossing Lane",
           "Chantilly",
           "Virginia"
          ],
          [
           "10701 Sudley Manor Drive",
           "Manassas",
           "Virginia"
          ],
          [
           "3102 Plank Road #600",
           "Fredericksburg",
           "Virginia"
          ],
          [
           "8629 120th Avenue NE",
           "Kirkland",
           "Washington"
          ],
          [
           "301 Fifth Street",
           "Clarkston",
           "Washington"
          ],
          [
           "8505A W. Gage Blvd",
           "Kennewick",
           "Washington"
          ],
          [
           "5601 East Sprague Avenue",
           "Spokane",
           "Washington"
          ],
          [
           "7619 North Division Street",
           "Spokane",
           "Washington"
          ],
          [
           "2310 Longfibre Rd",
           "Union Gap",
           "Washington"
          ],
          [
           "375 Highline Drive South",
           "East Wenatchee",
           "Washington"
          ],
          [
           "6720 NE 84th Street",
           "Vancouver",
           "Washington"
          ],
          [
           "1470 Marvin Rd NE",
           "Lacey",
           "Washington"
          ],
          [
           "5500 Littlerock Road",
           "Tumwater",
           "Washington"
          ],
          [
           "3900 20th St. East",
           "Fife",
           "Washington"
          ],
          [
           "2219 South 37th Street",
           "Tacoma",
           "Washington"
          ],
          [
           "10000 Mickelberry Rd. NW",
           "Silverdale",
           "Washington"
          ],
          [
           "955 West Washington St",
           "Sequim",
           "Washington"
          ],
          [
           "955 West Washington St",
           "Sequim",
           "Washington"
          ],
          [
           "1201 39th SW",
           "Puyallup",
           "Washington"
          ],
          [
           "16616 Twin Lakes Ave",
           "Marysville",
           "Washington"
          ],
          [
           "1725 S. Burlington Blvd",
           "Burlington",
           "Washington"
          ],
          [
           "4299 Guide Meridian Street",
           "Bellingham",
           "Washington"
          ],
          [
           "10200 19th Avenue SE",
           "Everett",
           "Washington"
          ],
          [
           "400 Costco Drive Suite 150",
           "Tukwila",
           "Washington"
          ],
          [
           "4401 4th Avenue South",
           "Seattle",
           "Washington"
          ],
          [
           "1175 North 205th Street",
           "Seattle",
           "Washington"
          ],
          [
           "24008 Snohomish-Woodinville Rd SE",
           "Woodinville",
           "Washington"
          ],
          [
           "19105 Highway 99",
           "Lynnwood",
           "Washington"
          ],
          [
           "1801 10th Avenue NW",
           "Issaquah",
           "Washington"
          ],
          [
           "35100 Enchanted Parkway South",
           "Federal Way",
           "Washington"
          ],
          [
           "19610 SE 1st St",
           "Vancouver",
           "Washington"
          ],
          [
           "10990 Harbor Hill Dr",
           "Gig Harbor",
           "Washington"
          ],
          [
           "27520 Covington Way SE",
           "Covington",
           "Washington"
          ],
          [
           "2150 Deming Way",
           "Middleton",
           "Wisconsin"
          ],
          [
           "950 Port Washington Rd",
           "Grafton",
           "Wisconsin"
          ]
         ],
         "type": "scattergeo"
        }
       ],
       "layout": {
        "geo": {
         "scope": "usa"
        },
        "template": {
         "data": {
          "bar": [
           {
            "error_x": {
             "color": "#2a3f5f"
            },
            "error_y": {
             "color": "#2a3f5f"
            },
            "marker": {
             "line": {
              "color": "#E5ECF6",
              "width": 0.5
             }
            },
            "type": "bar"
           }
          ],
          "barpolar": [
           {
            "marker": {
             "line": {
              "color": "#E5ECF6",
              "width": 0.5
             }
            },
            "type": "barpolar"
           }
          ],
          "carpet": [
           {
            "aaxis": {
             "endlinecolor": "#2a3f5f",
             "gridcolor": "white",
             "linecolor": "white",
             "minorgridcolor": "white",
             "startlinecolor": "#2a3f5f"
            },
            "baxis": {
             "endlinecolor": "#2a3f5f",
             "gridcolor": "white",
             "linecolor": "white",
             "minorgridcolor": "white",
             "startlinecolor": "#2a3f5f"
            },
            "type": "carpet"
           }
          ],
          "choropleth": [
           {
            "colorbar": {
             "outlinewidth": 0,
             "ticks": ""
            },
            "type": "choropleth"
           }
          ],
          "contour": [
           {
            "colorbar": {
             "outlinewidth": 0,
             "ticks": ""
            },
            "colorscale": [
             [
              0,
              "#0d0887"
             ],
             [
              0.1111111111111111,
              "#46039f"
             ],
             [
              0.2222222222222222,
              "#7201a8"
             ],
             [
              0.3333333333333333,
              "#9c179e"
             ],
             [
              0.4444444444444444,
              "#bd3786"
             ],
             [
              0.5555555555555556,
              "#d8576b"
             ],
             [
              0.6666666666666666,
              "#ed7953"
             ],
             [
              0.7777777777777778,
              "#fb9f3a"
             ],
             [
              0.8888888888888888,
              "#fdca26"
             ],
             [
              1,
              "#f0f921"
             ]
            ],
            "type": "contour"
           }
          ],
          "contourcarpet": [
           {
            "colorbar": {
             "outlinewidth": 0,
             "ticks": ""
            },
            "type": "contourcarpet"
           }
          ],
          "heatmap": [
           {
            "colorbar": {
             "outlinewidth": 0,
             "ticks": ""
            },
            "colorscale": [
             [
              0,
              "#0d0887"
             ],
             [
              0.1111111111111111,
              "#46039f"
             ],
             [
              0.2222222222222222,
              "#7201a8"
             ],
             [
              0.3333333333333333,
              "#9c179e"
             ],
             [
              0.4444444444444444,
              "#bd3786"
             ],
             [
              0.5555555555555556,
              "#d8576b"
             ],
             [
              0.6666666666666666,
              "#ed7953"
             ],
             [
              0.7777777777777778,
              "#fb9f3a"
             ],
             [
              0.8888888888888888,
              "#fdca26"
             ],
             [
              1,
              "#f0f921"
             ]
            ],
            "type": "heatmap"
           }
          ],
          "heatmapgl": [
           {
            "colorbar": {
             "outlinewidth": 0,
             "ticks": ""
            },
            "colorscale": [
             [
              0,
              "#0d0887"
             ],
             [
              0.1111111111111111,
              "#46039f"
             ],
             [
              0.2222222222222222,
              "#7201a8"
             ],
             [
              0.3333333333333333,
              "#9c179e"
             ],
             [
              0.4444444444444444,
              "#bd3786"
             ],
             [
              0.5555555555555556,
              "#d8576b"
             ],
             [
              0.6666666666666666,
              "#ed7953"
             ],
             [
              0.7777777777777778,
              "#fb9f3a"
             ],
             [
              0.8888888888888888,
              "#fdca26"
             ],
             [
              1,
              "#f0f921"
             ]
            ],
            "type": "heatmapgl"
           }
          ],
          "histogram": [
           {
            "marker": {
             "colorbar": {
              "outlinewidth": 0,
              "ticks": ""
             }
            },
            "type": "histogram"
           }
          ],
          "histogram2d": [
           {
            "colorbar": {
             "outlinewidth": 0,
             "ticks": ""
            },
            "colorscale": [
             [
              0,
              "#0d0887"
             ],
             [
              0.1111111111111111,
              "#46039f"
             ],
             [
              0.2222222222222222,
              "#7201a8"
             ],
             [
              0.3333333333333333,
              "#9c179e"
             ],
             [
              0.4444444444444444,
              "#bd3786"
             ],
             [
              0.5555555555555556,
              "#d8576b"
             ],
             [
              0.6666666666666666,
              "#ed7953"
             ],
             [
              0.7777777777777778,
              "#fb9f3a"
             ],
             [
              0.8888888888888888,
              "#fdca26"
             ],
             [
              1,
              "#f0f921"
             ]
            ],
            "type": "histogram2d"
           }
          ],
          "histogram2dcontour": [
           {
            "colorbar": {
             "outlinewidth": 0,
             "ticks": ""
            },
            "colorscale": [
             [
              0,
              "#0d0887"
             ],
             [
              0.1111111111111111,
              "#46039f"
             ],
             [
              0.2222222222222222,
              "#7201a8"
             ],
             [
              0.3333333333333333,
              "#9c179e"
             ],
             [
              0.4444444444444444,
              "#bd3786"
             ],
             [
              0.5555555555555556,
              "#d8576b"
             ],
             [
              0.6666666666666666,
              "#ed7953"
             ],
             [
              0.7777777777777778,
              "#fb9f3a"
             ],
             [
              0.8888888888888888,
              "#fdca26"
             ],
             [
              1,
              "#f0f921"
             ]
            ],
            "type": "histogram2dcontour"
           }
          ],
          "mesh3d": [
           {
            "colorbar": {
             "outlinewidth": 0,
             "ticks": ""
            },
            "type": "mesh3d"
           }
          ],
          "parcoords": [
           {
            "line": {
             "colorbar": {
              "outlinewidth": 0,
              "ticks": ""
             }
            },
            "type": "parcoords"
           }
          ],
          "scatter": [
           {
            "marker": {
             "colorbar": {
              "outlinewidth": 0,
              "ticks": ""
             }
            },
            "type": "scatter"
           }
          ],
          "scatter3d": [
           {
            "line": {
             "colorbar": {
              "outlinewidth": 0,
              "ticks": ""
             }
            },
            "marker": {
             "colorbar": {
              "outlinewidth": 0,
              "ticks": ""
             }
            },
            "type": "scatter3d"
           }
          ],
          "scattercarpet": [
           {
            "marker": {
             "colorbar": {
              "outlinewidth": 0,
              "ticks": ""
             }
            },
            "type": "scattercarpet"
           }
          ],
          "scattergeo": [
           {
            "marker": {
             "colorbar": {
              "outlinewidth": 0,
              "ticks": ""
             }
            },
            "type": "scattergeo"
           }
          ],
          "scattergl": [
           {
            "marker": {
             "colorbar": {
              "outlinewidth": 0,
              "ticks": ""
             }
            },
            "type": "scattergl"
           }
          ],
          "scattermapbox": [
           {
            "marker": {
             "colorbar": {
              "outlinewidth": 0,
              "ticks": ""
             }
            },
            "type": "scattermapbox"
           }
          ],
          "scatterpolar": [
           {
            "marker": {
             "colorbar": {
              "outlinewidth": 0,
              "ticks": ""
             }
            },
            "type": "scatterpolar"
           }
          ],
          "scatterpolargl": [
           {
            "marker": {
             "colorbar": {
              "outlinewidth": 0,
              "ticks": ""
             }
            },
            "type": "scatterpolargl"
           }
          ],
          "scatterternary": [
           {
            "marker": {
             "colorbar": {
              "outlinewidth": 0,
              "ticks": ""
             }
            },
            "type": "scatterternary"
           }
          ],
          "surface": [
           {
            "colorbar": {
             "outlinewidth": 0,
             "ticks": ""
            },
            "colorscale": [
             [
              0,
              "#0d0887"
             ],
             [
              0.1111111111111111,
              "#46039f"
             ],
             [
              0.2222222222222222,
              "#7201a8"
             ],
             [
              0.3333333333333333,
              "#9c179e"
             ],
             [
              0.4444444444444444,
              "#bd3786"
             ],
             [
              0.5555555555555556,
              "#d8576b"
             ],
             [
              0.6666666666666666,
              "#ed7953"
             ],
             [
              0.7777777777777778,
              "#fb9f3a"
             ],
             [
              0.8888888888888888,
              "#fdca26"
             ],
             [
              1,
              "#f0f921"
             ]
            ],
            "type": "surface"
           }
          ],
          "table": [
           {
            "cells": {
             "fill": {
              "color": "#EBF0F8"
             },
             "line": {
              "color": "white"
             }
            },
            "header": {
             "fill": {
              "color": "#C8D4E3"
             },
             "line": {
              "color": "white"
             }
            },
            "type": "table"
           }
          ]
         },
         "layout": {
          "annotationdefaults": {
           "arrowcolor": "#2a3f5f",
           "arrowhead": 0,
           "arrowwidth": 1
          },
          "colorscale": {
           "diverging": [
            [
             0,
             "#8e0152"
            ],
            [
             0.1,
             "#c51b7d"
            ],
            [
             0.2,
             "#de77ae"
            ],
            [
             0.3,
             "#f1b6da"
            ],
            [
             0.4,
             "#fde0ef"
            ],
            [
             0.5,
             "#f7f7f7"
            ],
            [
             0.6,
             "#e6f5d0"
            ],
            [
             0.7,
             "#b8e186"
            ],
            [
             0.8,
             "#7fbc41"
            ],
            [
             0.9,
             "#4d9221"
            ],
            [
             1,
             "#276419"
            ]
           ],
           "sequential": [
            [
             0,
             "#0d0887"
            ],
            [
             0.1111111111111111,
             "#46039f"
            ],
            [
             0.2222222222222222,
             "#7201a8"
            ],
            [
             0.3333333333333333,
             "#9c179e"
            ],
            [
             0.4444444444444444,
             "#bd3786"
            ],
            [
             0.5555555555555556,
             "#d8576b"
            ],
            [
             0.6666666666666666,
             "#ed7953"
            ],
            [
             0.7777777777777778,
             "#fb9f3a"
            ],
            [
             0.8888888888888888,
             "#fdca26"
            ],
            [
             1,
             "#f0f921"
            ]
           ],
           "sequentialminus": [
            [
             0,
             "#0d0887"
            ],
            [
             0.1111111111111111,
             "#46039f"
            ],
            [
             0.2222222222222222,
             "#7201a8"
            ],
            [
             0.3333333333333333,
             "#9c179e"
            ],
            [
             0.4444444444444444,
             "#bd3786"
            ],
            [
             0.5555555555555556,
             "#d8576b"
            ],
            [
             0.6666666666666666,
             "#ed7953"
            ],
            [
             0.7777777777777778,
             "#fb9f3a"
            ],
            [
             0.8888888888888888,
             "#fdca26"
            ],
            [
             1,
             "#f0f921"
            ]
           ]
          },
          "colorway": [
           "#636efa",
           "#EF553B",
           "#00cc96",
           "#ab63fa",
           "#FFA15A",
           "#19d3f3",
           "#FF6692",
           "#B6E880",
           "#FF97FF",
           "#FECB52"
          ],
          "font": {
           "color": "#2a3f5f"
          },
          "geo": {
           "bgcolor": "white",
           "lakecolor": "white",
           "landcolor": "#E5ECF6",
           "showlakes": true,
           "showland": true,
           "subunitcolor": "white"
          },
          "hoverlabel": {
           "align": "left"
          },
          "hovermode": "closest",
          "mapbox": {
           "style": "light"
          },
          "paper_bgcolor": "white",
          "plot_bgcolor": "#E5ECF6",
          "polar": {
           "angularaxis": {
            "gridcolor": "white",
            "linecolor": "white",
            "ticks": ""
           },
           "bgcolor": "#E5ECF6",
           "radialaxis": {
            "gridcolor": "white",
            "linecolor": "white",
            "ticks": ""
           }
          },
          "scene": {
           "xaxis": {
            "backgroundcolor": "#E5ECF6",
            "gridcolor": "white",
            "gridwidth": 2,
            "linecolor": "white",
            "showbackground": true,
            "ticks": "",
            "zerolinecolor": "white"
           },
           "yaxis": {
            "backgroundcolor": "#E5ECF6",
            "gridcolor": "white",
            "gridwidth": 2,
            "linecolor": "white",
            "showbackground": true,
            "ticks": "",
            "zerolinecolor": "white"
           },
           "zaxis": {
            "backgroundcolor": "#E5ECF6",
            "gridcolor": "white",
            "gridwidth": 2,
            "linecolor": "white",
            "showbackground": true,
            "ticks": "",
            "zerolinecolor": "white"
           }
          },
          "shapedefaults": {
           "line": {
            "color": "#2a3f5f"
           }
          },
          "ternary": {
           "aaxis": {
            "gridcolor": "white",
            "linecolor": "white",
            "ticks": ""
           },
           "baxis": {
            "gridcolor": "white",
            "linecolor": "white",
            "ticks": ""
           },
           "bgcolor": "#E5ECF6",
           "caxis": {
            "gridcolor": "white",
            "linecolor": "white",
            "ticks": ""
           }
          },
          "title": {
           "x": 0.05
          },
          "xaxis": {
           "automargin": true,
           "gridcolor": "white",
           "linecolor": "white",
           "ticks": "",
           "zerolinecolor": "white",
           "zerolinewidth": 2
          },
          "yaxis": {
           "automargin": true,
           "gridcolor": "white",
           "linecolor": "white",
           "ticks": "",
           "zerolinecolor": "white",
           "zerolinewidth": 2
          }
         }
        },
        "title": {
         "text": "Costco Locations in the USA"
        }
       }
      },
      "text/html": [
       "<div>\n",
       "        \n",
       "        \n",
       "            <div id=\"540c523c-df8a-483a-b4bf-1a431743ef2f\" class=\"plotly-graph-div\" style=\"height:525px; width:100%;\"></div>\n",
       "            <script type=\"text/javascript\">\n",
       "                require([\"plotly\"], function(Plotly) {\n",
       "                    window.PLOTLYENV=window.PLOTLYENV || {};\n",
       "                    \n",
       "                if (document.getElementById(\"540c523c-df8a-483a-b4bf-1a431743ef2f\")) {\n",
       "                    Plotly.newPlot(\n",
       "                        '540c523c-df8a-483a-b4bf-1a431743ef2f',\n",
       "                        [{\"lat\": [34.743094899999996, 33.377649, 32.363889, 58.3592, 61.143266000000004, 61.210815000000004, 34.548992999999996, 32.326217699999994, 32.2522189, 33.643277000000005, 33.296095, 33.347289, 33.624134399999996, 33.376244, 33.293696000000004, 33.3886808, 33.670943, 33.659688, 33.49179, 33.5206919, 33.473335, 33.467156, 33.600961, 32.7789832, 40.586449, 39.7214025, 38.4677597, 38.597139, 38.6699409, 38.588195, 38.780609999999996, 38.645206, 38.6903, 40.7919385, 38.420456200000004, 37.7003612, 37.3019943, 37.784874, 38.018791, 37.3886293, 37.253214, 37.309657, 36.985104, 37.357021, 38.087238, 37.898773999999996, 38.133192, 38.215406, 37.718174100000006, 37.702588, 37.667516, 37.503123200000005, 37.78259, 38.009119, 37.561366, 37.770488, 37.372027, 37.64223079999999, 37.6654356, 37.420676, 36.617070500000004, 36.703939, 36.80989, 36.792187, 34.66129, 34.936541, 35.251917, 36.292806, 34.427890000000005, 34.2251071, 33.87567, 33.8899732, 33.773511, 33.862449, 33.7282, 33.699689, 33.703448, 33.5569565, 33.469498, 33.657000599999996, 33.935555, 33.696337, 34.068044, 34.5155574, 32.8152064, 33.79963920000001, 32.987241, 32.712739, 33.1879309, 32.840641999999995, 32.93649, 33.1201381, 32.773971, 32.608954499999996, 32.637276, 34.089515000000006, 34.112139, 34.083039, 33.994075, 34.078576, 34.014463, 34.131982, 34.185739, 34.181613, 34.4027129, 34.152307, 34.230765000000005, 34.218644, 33.804317299999994, 33.850463, 33.919958, 34.032917, 33.932029, 33.800813, 33.943257, 33.992576, 33.898804999999996, 34.1285583, 38.3506756, 37.519131, 37.7510679, 37.008207, 38.352725899999996, 37.616322100000005, 37.478656, 36.839426, 35.297271, 35.384837, 33.567617999999996, 33.521227, 34.137557, 33.704896000000005, 32.823495799999996, 32.816251, 34.272589399999994, 33.803183399999995, 33.918618, 33.994758600000004, 39.64338720000001, 38.892736, 39.5580896, 39.561203000000006, 39.638284999999996, 39.644445000000005, 39.862237, 39.9576167, 39.991358, 39.690471, 39.790074, 38.9037505, 41.091945700000004, 41.4422731, 41.542671999999996, 41.249660999999996, 41.9936047, 39.677735999999996, 26.411955, 26.220259999999996, 26.489631, 26.544446999999998, 27.921490999999996, 26.5872905, 26.681031400000002, 26.808351899999998, 26.096903899999997, 25.655668, 25.909564000000003, 25.774109, 26.273566, 26.009617000000002, 25.923451, 28.404252000000003, 28.59907, 28.661867200000003, 30.4606461, 30.252071, 27.9604528, 34.932647700000004, 34.0620378, 33.8816153, 33.927816, 33.572052, 34.009217799999995, 33.947764, 34.090513, 33.8709805, 19.687344, 21.282117, 21.418893100000002, 21.966535500000003, 20.887082, 21.3272958, 21.318473899999997, 47.7080223, 43.585487, 43.615175, 42.591998, 42.905739000000004, 42.014665, 41.7600708, 41.929772899999996, 41.845569, 41.6011911, 42.0565401, 42.178880799999995, 41.939683200000005, 42.187135, 41.744338799999994, 41.7265993, 41.9073026, 41.9091302, 42.0831646, 42.240048, 42.1090138, 41.4738435, 39.916734999999996, 39.913779, 41.562810999999996, 38.95885, 38.906906, 38.316367299999996, 38.973144500000004, 39.4018344, 39.358195, 39.15582, 39.186369, 39.2035401, 39.155646000000004, 37.228312, 38.6645584, 42.395066, 42.136598, 42.230996000000005, 37.226693, 42.13216, 42.4017251, 42.910564, 42.875818, 42.7070854, 42.6295851, 42.606916, 42.432885, 42.3813419, 42.5044786, 42.5161919, 42.4959314, 42.534006, 45.198543799999996, 44.967625399999996, 45.09298, 44.8603208, 45.029375, 44.7481179, 39.0682148, 39.037203399999996, 38.797261999999996, 38.506797999999996, 38.597951, 48.174177, 46.89293, 45.71334, 46.616615, 45.755016299999994, 41.265223999999996, 39.1123484, 39.503102, 39.579204, 36.1633476, 36.278946000000005, 36.172128799999996, 36.06985, 42.7023, 40.5317305, 40.5644881, 40.0547573, 39.950586799999996, 39.707209999999996, 40.80968529999999, 40.906896, 40.4194098, 40.876239, 40.88724129999999, 40.6931, 40.830625, 35.068225, 35.19547, 35.136386, 40.862057, 40.757604, 40.773266, 40.806752200000005, 40.743347, 40.630782399999994, 40.6554813, 40.7673216, 41.107253, 40.896403, 40.9749617, 40.57268, 40.7333304, 40.997205, 40.7953918, 34.247172799999994, 35.162075, 35.130096, 36.028911, 35.818255, 36.058064, 36.064731, 39.2956999, 39.288171999999996, 41.524169799999996, 41.677335799999994, 40.150574, 41.31307929999999, 41.461881, 44.057266999999996, 42.368775899999996, 44.089117, 44.6391268, 44.918976, 45.559288, 45.4367116, 45.535709000000004, 45.332949, 45.429738, 45.509085, 43.259025799999996, 46.1472442, 40.2391985, 40.091369, 40.052357, 40.3098913, 40.691215, 40.406792200000005, 40.4581284, 34.83608579999999, 33.705698, 32.7953856, 34.9370256, 35.046563899999995, 35.192040000000006, 36.1392669, 35.963436, 30.3968644, 29.576287, 29.598390999999996, 29.9536092, 29.787754999999997, 29.732782899999997, 32.6775654, 32.9419217, 32.6846619, 33.023989, 33.044137899999996, 32.9952011, 31.783496999999997, 29.611904, 32.620946, 32.9087304, 37.122515, 41.197413, 40.6903769, 40.730657, 40.282244299999995, 40.550667499999996, 40.389719, 40.889379, 40.6577119, 44.5034, 37.106044, 36.851561, 37.438778000000006, 37.642294, 38.428596999999996, 39.157827000000005, 38.8624735, 38.642245, 38.739883, 38.849315000000004, 39.115223, 39.023821000000005, 38.895106899999995, 38.783572, 38.293479, 47.681717, 46.4229672, 46.225654, 47.658358, 47.724927, 46.562354, 47.401812, 45.684942, 47.05934, 46.996336, 47.238296999999996, 47.224683, 47.656571, 48.077069200000004, 48.077069200000004, 47.156471999999994, 48.147560999999996, 48.453882, 48.797450700000006, 47.903556, 47.445595000000004, 47.5649224, 47.77567, 47.779015, 47.82549, 47.551216499999995, 47.2869797, 45.6212994, 47.3577482, 47.354838, 43.100195, 43.3246907], \"locationmode\": \"USA-states\", \"lon\": [-86.6009553, -86.81241999999999, -86.15088399999999, -134.483, -149.884217, -149.804337, -112.3954274, -111.0491606, -110.859554, -112.233474, -111.74564699999999, -111.96186200000001, -111.90191180000001, -111.84076499999999, -111.89950900000001, -111.6675437, -112.028124, -112.11584099999999, -112.12837900000001, -112.09518899999999, -111.98553100000001, -112.274404, -111.98379299999999, -117.1269067, -122.345675, -121.8096578, -121.41540690000001, -121.452409, -121.7259571, -121.263769, -121.267423, -121.10959799999999, -121.29858999999999, -124.1825438, -122.7134804, -121.06713859999999, -120.49400120000001, -121.26001399999998, -121.29275700000001, -121.8829132, -121.879999, -121.85157099999999, -122.033615, -121.93884299999999, -122.551076, -122.320125, -122.21374499999999, -122.14491100000001, -122.1809332, -121.812265, -122.10278000000001, -121.9748814, -121.972853, -121.83790400000001, -122.275144, -122.411106, -121.99477900000001, -122.4010744, -122.44908570000001, -122.09506100000002, -121.8474767, -121.668608, -119.874081, -119.71434199999999, -118.15142900000001, -120.42083999999998, -120.69101299999998, -119.30663799999999, -119.874572, -119.14856699999999, -117.74385, -117.5208947, -117.940271, -117.92211, -117.79629399999999, -117.82261799999999, -117.931978, -117.67887579999999, -117.677697, -117.7397337, -117.276579, -117.33918200000001, -117.263077, -117.31964280000001, -115.5700028, -116.3819564, -117.077675, -117.11613, -117.2767568, -116.987356, -117.033125, -117.3165503, -117.024305, -117.08095259999999, -117.022199, -118.148531, -117.82633, -117.690661, -117.92200000000001, -117.54827140000002, -117.74181499999999, -117.92568100000001, -118.324045, -118.46401000000002, -118.4550432, -118.79713100000001, -118.551069, -118.59611899999999, -118.166725, -118.136453, -118.102519, -118.09746299999999, -117.96978600000001, -118.34993, -118.33385600000001, -118.446821, -118.372745, -118.26367959999999, -121.98177079999999, -120.888552, -121.47509099999999, -121.55644699999999, -122.717092, -122.08895090000001, -122.216527, -119.78773999999999, -119.058275, -119.048452, -117.71157099999999, -117.154362, -117.442672, -116.272801, -117.22828510000001, -117.153631, -118.4276271, -118.038976, -118.342576, -118.14306140000001, -106.8885487, -104.71771, -104.7758852, -104.874753, -105.082856, -105.006451, -105.0661949, -105.16992979999999, -104.98316299999999, -104.86808, -105.082637, -104.81721359999999, -73.4515808, -73.40512790000001, -72.96866750000001, -73.023977, -72.5754399, -75.64737, -80.1008839, -81.77492, -81.785933, -81.8742089, -82.330936, -80.0726927, -80.2195563, -80.0879667, -80.2509582, -80.41206899999999, -80.156203, -80.330536, -80.148255, -80.360331, -80.29870600000001, -81.40671, -81.30024, -81.4176945, -84.2124709, -81.533776, -82.7275752, -85.2547988, -83.9943156, -84.46943590000001, -84.352462, -84.333989, -84.5686483, -84.143039, -84.277902, -84.33502829999999, -156.017457, -157.7119219, -158.00638480000003, -159.3799149, -156.45136399999998, -158.08810830000002, -157.870711, -116.7819023, -116.27668600000001, -116.59278400000001, -114.46563950000001, -112.46893100000001, -87.7815541, -87.7418497, -87.67704470000001, -87.964888, -87.86182559999999, -88.0449252, -88.3387302, -88.1323182, -88.093412, -88.2058422, -88.03255659999999, -88.34001909999999, -87.8367543, -87.9332458, -87.90571609999999, -87.8214507, -87.3218679, -86.22622700000001, -86.06179300000001, -93.804976, -94.733002, -94.670999, -85.57286409999999, -76.8160858, -77.40753640000001, -76.444565, -76.730744, -76.793645, -76.5939428, -77.214124, -77.39030009999999, -76.8747015, -71.265264, -71.066458, -71.17497, -77.401371, -72.620485, -71.06952640000002, -85.542713, -85.76385, -83.2963467, -82.98076999999999, -83.293322, -83.430471, -83.332026, -83.7594455, -83.117129, -82.9371897, -83.444799, -93.3502188, -93.3495534, -93.424382, -93.4358767, -93.039964, -93.2934839, -94.5815625, -94.3551426, -90.607339, -90.3408851, -90.506914, -114.29897, -114.03735800000001, -111.07065300000001, -112.0049737, -108.5727142, -96.10534, -119.8451288, -119.785095, -119.73879199999999, -115.3318905, -115.209445, -115.1608236, -115.03716599999998, -71.443126, -74.37662370000001, -74.55530809999999, -74.1563178, -74.87611319999999, -74.287661, -74.381266, -74.569445, -74.17051359999999, -74.038818, -74.2541309, -74.2873, -74.1366964, -106.53038500000001, -106.66139, -106.614209, -73.130236, -73.42063399999999, -73.050016, -73.2865925, -73.601117, -73.7398576, -74.00907420000001, -73.9375771, -74.025274, -73.7938571, -73.86129050000001, -74.168663, -73.86357170000001, -73.66156099999999, -73.93185159999999, -77.87389959999999, -80.88395799999999, -80.70474200000001, -78.914527, -78.622315, -79.883838, -80.317952, -84.3032, -84.4510214, -81.4467262, -83.6241301, -82.976965, -81.8162777, -82.012682, -121.26761599999999, -122.858378, -123.06635, -123.06581399999999, -122.995309, -122.523747, -122.75647959999999, -122.9355, -122.76409299999999, -122.571376, -122.84191899999999, -123.3513746, -123.91740359999999, -75.2351214, -75.385931, -76.256924, -76.79965059999999, -80.107991, -79.9195722, -80.1671087, -82.311008, -78.915906, -80.03696540000001, -81.9906978, -89.7972209, -89.794989, -86.885891, -86.818149, -97.7456423, -98.59715600000001, -98.27791500000001, -95.54681090000001, -95.529263, -95.43895649999999, -97.4087829, -97.1121332, -97.11274859999999, -96.831701, -96.699179, -96.9648545, -106.410297, -98.474805, -96.910279, -96.4454985, -113.523381, -111.97937250000001, -111.9541263, -111.90293999999999, -111.6798494, -111.8934445, -111.8229955, -111.89510800000001, -111.889873, -73.173988, -76.49655899999999, -76.19968100000001, -77.587539, -77.561159, -78.85613000000001, -78.15792900000001, -77.0567423, -77.29444699999999, -77.197301, -77.37178399999999, -77.533198, -77.401854, -77.44302090000001, -77.51642690000001, -77.515701, -122.18208600000001, -117.04427220000001, -119.23524599999999, -117.332852, -117.41148899999999, -120.499306, -120.28045900000001, -122.60471799999999, -122.760723, -122.916699, -122.37395500000001, -122.469182, -122.680673, -123.1254206, -123.1254206, -122.308125, -122.19123700000002, -122.33803799999998, -122.4882889, -122.209275, -122.24833999999998, -122.3304533, -122.344819, -122.1484548, -122.30991499999999, -122.0528913, -122.31352009999999, -122.45913459999998, -122.6038876, -122.12118500000001, -89.522751, -87.9216153], \"marker\": {\"color\": \"red\"}, \"mode\": \"markers\", \"text\": [[\"1205 N. Memorial Parkway\", \"Huntsville\", \"Alabama\"], [\"3650 Galleria Circle\", \"Hoover\", \"Alabama\"], [\"8251 Eastchase Parkway\", \"Montgomery\", \"Alabama\"], [\"5225 Commercial Boulevard\", \"Juneau\", \"Alaska\"], [\"330 West Dimond Blvd\", \"Anchorage\", \"Alaska\"], [\"4125 DeBarr Road\", \"Anchorage\", \"Alaska\"], [\"3911 Highway 69\", \"Prescott\", \"Arizona\"], [\"3901 West Costco Drive\", \"Tucson\", \"Arizona\"], [\"6255 East Grant Road\", \"Tucson\", \"Arizona\"], [\"17550 N. 79th Ave.\", \"Glendale\", \"Arizona\"], [\"2887 S Market St\", \"Gilbert\", \"Arizona\"], [\"1445 West Elliot Road\", \"Tempe\", \"Arizona\"], [\"15255 North Hayden Road\", \"Scottsdale\", \"Arizona\"], [\"1415 North Arizona Avenue\", \"Gilbert\", \"Arizona\"], [\"595 S Galleria Way\", \"Chandler\", \"Arizona\"], [\"1444 S Sossaman Rd\", \"Mesa\", \"Arizona\"], [\"2450 E Beardsley Rd\", \"Phoenix\", \"Arizona\"], [\"19001 N. 27th Ave\", \"Phoenix\", \"Arizona\"], [\"3801 N. 33rd Avenue\", \"Phoenix\", \"Arizona\"], [\"1646 W. Montebello\", \"Phoenix\", \"Arizona\"], [\"4502 East Oak Street\", \"Phoenix\", \"Arizona\"], [\"10000 W. McDowell Road\", \"Avondale\", \"Arizona\"], [\"4570 E Cactus Rd\", \"Phoenix\", \"Arizona\"], [\"2345 Fenton Pkwy\", \"San Diego\", \"California\"], [\"1300 Dana Drive\", \"Redding\", \"California\"], [\"2100 Dr Martin Luther King Jr Way\", \"Chico\", \"California\"], [\"7981 East Stockton Boulevard\", \"Sacramento\", \"California\"], [\"1600 Expo Parkway\", \"Sacramento\", \"California\"], [\"2299 Bronze Star Drive\", \"Woodland\", \"California\"], [\"11260 White Rock Road\", \"Rancho Cordova\", \"California\"], [\"6750 Stanford Ranch Road\", \"Roseville\", \"California\"], [\"1800 Cavitt Court\", \"Folsom\", \"California\"], [\"7000 Auburn Blvd\", \"Citrus Heights\", \"California\"], [\"1006 West Wabash Avenue\", \"Eureka\", \"California\"], [\"1900 Santa Rosa Avenue\", \"Santa Rosa\", \"California\"], [\"3801 Pelandale Ave.\", \"Modesto\", \"California\"], [\"1445 R Street\", \"Merced\", \"California\"], [\"2440 Daniels St\", \"Manteca\", \"California\"], [\"1616 East Hammer Lane\", \"Stockton\", \"California\"], [\"1709 Automation Parkway\", \"San Jose\", \"California\"], [\"5301 Almaden Expressway\", \"San Jose\", \"California\"], [\"2201 Senter Road\", \"San Jose\", \"California\"], [\"220 Sylvania Avenue\", \"Santa Cruz\", \"California\"], [\"1601 Coleman Avenue\", \"Santa Clara\", \"California\"], [\"300 Vintage Way\", \"Novato\", \"California\"], [\"4801 Central Avenue\", \"Richmond\", \"California\"], [\"198 Plaza Drive\", \"Vallejo\", \"California\"], [\"5101 Business Center Drive\", \"Fairfield\", \"California\"], [\"1900 Davis Street\", \"San Leandro\", \"California\"], [\"2800 Independence Drive\", \"Livermore\", \"California\"], [\"22330 Hathaway Avenue\", \"Hayward\", \"California\"], [\"43621 Pacific Commons Blvd\", \"Fremont\", \"California\"], [\"3150 Fostoria Way\", \"Danville\", \"California\"], [\"2201 Verne Roberts Circle\", \"Antioch\", \"California\"], [\"1001 Metro Center Boulevard\", \"Foster City\", \"California\"], [\"450 10th Street\", \"San Francisco\", \"California\"], [\"150 Lawrence Station Road\", \"Sunnyvale\", \"California\"], [\"451 South Airport Boulevard\", \"South San Francisco\", \"California\"], [\"1600 El Camino Real\", \"South San Francisco\", \"California\"], [\"1000 North Rengstorff Avenue\", \"Mountain View\", \"California\"], [\"801 Tioga Avenue\", \"Sand City\", \"California\"], [\"1339 North Davis Road\", \"Salinas\", \"California\"], [\"4500 W Shaw\", \"Fresno\", \"California\"], [\"380 West Ashlan Avenue\", \"Clovis\", \"California\"], [\"1141 West Avenue L\", \"Lancaster\", \"California\"], [\"1335 South Bradley\", \"Santa Maria\", \"California\"], [\"1540 Froom Ranch Way\", \"San Luis Obispo\", \"California\"], [\"1405 W Cameron Ave\", \"Visalia\", \"California\"], [\"7095 Market Place Drive\", \"Goleta\", \"California\"], [\"2001 East Ventura Boulevard\", \"Oxnard\", \"California\"], [\"22633 Savi Ranch Parkway\", \"Yorba Linda\", \"California\"], [\"480 McKinley Street\", \"Corona\", \"California\"], [\"11000 Garden Grove Boulevard\", \"Garden Grove\", \"California\"], [\"900 South Harbor Boulevard\", \"Fullerton\", \"California\"], [\"2655 El Camino Real\", \"Tustin\", \"California\"], [\"2700 Park Ave\", \"Tustin\", \"California\"], [\"17900 Newhope Street\", \"Fountain Valley\", \"California\"], [\"27972 Cabot Road\", \"Laguna Niguel\", \"California\"], [\"33961 Doheny Park Road\", \"San Juan Capistrano\", \"California\"], [\"115 Technology West Drive\", \"Irvine\", \"California\"], [\"12700 Day Street\", \"Moreno Valley\", \"California\"], [\"29315 Central Ave\", \"Lake Elsinore\", \"California\"], [\"1099 East Hospitality Lane\", \"San Bernardino\", \"California\"], [\"14555 Valley Center Drive\", \"Victorville\", \"California\"], [\"2030 North Imperial Avenue\", \"El Centro\", \"California\"], [\"72-800 Dinah Shore Drive\", \"Palm Desert\", \"California\"], [\"12350 Carmel Mountain Road\", \"San Diego\", \"California\"], [\"650 Gateway Center Drive\", \"San Diego\", \"California\"], [\"1755 Hacienda Drive\", \"Vista\", \"California\"], [\"101 Town Center Parkway\", \"Santee\", \"California\"], [\"12155 Tech Center Drive\", \"Poway\", \"California\"], [\"951 Palomar Airport Road\", \"Carlsbad\", \"California\"], [\"8125 Fletcher Parkway\", \"La Mesa\", \"California\"], [\"1130 Broadway\", \"Chula Vista\", \"California\"], [\"895 East H Street\", \"Chula Vista\", \"California\"], [\"2207 West Commonwealth Avenue\", \"Alhambra\", \"California\"], [\"520 N Lone Hill Ave\", \"San Dimas\", \"California\"], [\"9404 Central Avenue\", \"Montclair\", \"California\"], [\"17550 Castleton St.\", \"City of Industry\", \"California\"], [\"11800 4th Street\", \"Rancho Cucamonga\", \"California\"], [\"13111 Peyton Drive\", \"Chino Hills\", \"California\"], [\"1220 West Foothill Boulevard\", \"Azusa\", \"California\"], [\"1051 Burbank Blvd.\", \"Burbank\", \"California\"], [\"6100 Sepulveda Boulevard\", \"Van Nuys\", \"California\"], [\"18649 Via Princessa\", \"Santa Clarita\", \"California\"], [\"5700 Lindero Canyon Road\", \"Westlake Village\", \"California\"], [\"8810 Tampa Avenue\", \"Northridge\", \"California\"], [\"21300 Roscoe Boulevard\", \"Canoga Park\", \"California\"], [\"2200 East Willow Street\", \"Signal Hill\", \"California\"], [\"340 Lakewood Center Mall\", \"Lakewood\", \"California\"], [\"12324 Hoxie Avenue\", \"Norwalk\", \"California\"], [\"1345 North Montebello Boulevard\", \"Montebello\", \"California\"], [\"101 N Beach Blvd\", \"La Habra\", \"California\"], [\"2751 Sky Park Drive\", \"Torrance\", \"California\"], [\"3560 West Century Blvd\", \"Inglewood\", \"California\"], [\"13463 Washington Boulevard\", \"Marina del Rey\", \"California\"], [\"14501 Hindry Avenue\", \"Hawthorne\", \"California\"], [\"2901 Los Feliz Boulevard\", \"Los Angeles\", \"California\"], [\"1051 Hume Way\", \"Vacaville\", \"California\"], [\"2955 North Tegner Road\", \"Turlock\", \"California\"], [\"3250 W. Grant Line Road\", \"Tracy\", \"California\"], [\"7251 Camino Arroyo\", \"Gilroy\", \"California\"], [\"5901 Redwood Drive\", \"Rohnert Park\", \"California\"], [\"28505 Hesperian Blvd\", \"Hayward\", \"California\"], [\"2300 Middlefield Rd\", \"Redwood City\", \"California\"], [\"7100 N. Abby Street\", \"Fresno\", \"California\"], [\"4900 Panama Lane\", \"Bakersfield\", \"California\"], [\"3800 Rosedale Highway\", \"Bakersfield\", \"California\"], [\"27220 Heather Ridge Road\", \"Laguna Niguel\", \"California\"], [\"26610 Ynez Road\", \"Temecula\", \"California\"], [\"16505 Sierra Lakes Parkway\", \"Fontana\", \"California\"], [\"79795 Hwy 111\", \"La Quinta\", \"California\"], [\"4605 Morena Boulevard\", \"San Diego\", \"California\"], [\"7803 Othello Ave\", \"San Diego\", \"California\"], [\"13550 W Paxton St\", \"Pacoima\", \"California\"], [\"5401 Katella Ave\", \"Cypress\", \"California\"], [\"12530 Prairie Ave\", \"Hawthorne\", \"California\"], [\"6333 Telegraph Rd\", \"Commerce\", \"California\"], [\"170 Cooley Mesa Rd\", \"Gypsum\", \"Colorado\"], [\"5885 Barnes Road\", \"Colorado Springs\", \"Colorado\"], [\"18414 Cottonwood Dr\", \"Parker\", \"Colorado\"], [\"8686 Park Meadows Center Drive\", \"Littleton\", \"Colorado\"], [\"7900 West Quincy Avenue\", \"Littleton\", \"Colorado\"], [\"4000 River Point Parkway\", \"Sheridan\", \"Colorado\"], [\"6400 West 92nd Avenue\", \"Westminster\", \"Colorado\"], [\"600 Marshall Road\", \"Superior\", \"Colorado\"], [\"16375 N Washington St\", \"Thornton\", \"Colorado\"], [\"1471 South Havana\", \"Aurora\", \"Colorado\"], [\"5195 Wadsworth Blvd.\", \"Arvada\", \"Colorado\"], [\"5050 N Nevada Ave\", \"Colorado Springs\", \"Colorado\"], [\"779 Connecticut Ave\", \"Norwalk\", \"Connecticut\"], [\"200 Federal Road\", \"Brookfield\", \"Connecticut\"], [\"3600 East Main Street\", \"Waterbury\", \"Connecticut\"], [\"1718 Boston Post Road\", \"Milford\", \"Connecticut\"], [\"75 Freshwater Blvd\", \"Enfield\", \"Connecticut\"], [\"900 Center Boulevard\", \"Newark\", \"Delaware\"], [\"17800 Congress Avenue\", \"Boca Raton\", \"Florida\"], [\"6275 Naples Boulevard\", \"Naples\", \"Florida\"], [\"10088 Gulf Center Drive\", \"Fort Myers\", \"Florida\"], [\"7171 Cypress Lake Drive\", \"Fort Myers\", \"Florida\"], [\"10921 Causeway Blvd.\", \"Brandon\", \"Florida\"], [\"1873 West Lantana Road\", \"Lantana\", \"Florida\"], [\"11001 Southern Blvd - Ste 160\", \"Royal Palm Beach\", \"Florida\"], [\"3250 Northlake Boulevard\", \"Lake Park\", \"Florida\"], [\"1890 South University Drive\", \"Davie\", \"Florida\"], [\"13450 SW 120th St\", \"Kendall\", \"Florida\"], [\"14585 Biscayne Boulevard\", \"North Miami Beach\", \"Florida\"], [\"8300 Park Boulevard\", \"Miami\", \"Florida\"], [\"1800 West Sample Road\", \"Pompano Beach\", \"Florida\"], [\"15915 Pines Blvd\", \"Pembroke Pines\", \"Florida\"], [\"16580 NW 59th Avenue\", \"Miami\", \"Florida\"], [\"2101 Water Bridge Blvd\", \"Orlando\", \"Florida\"], [\"3333 University Boulevard\", \"Winter Park\", \"Florida\"], [\"741 Orange Avenue\", \"Altamonte Springs\", \"Florida\"], [\"4067 Lagniappe Way\", \"Tallahassee\", \"Florida\"], [\"4901 Gate Parkway\", \"Jacksonville\", \"Florida\"], [\"2655 Gulf to Bay Blvd.\", \"Clearwater\", \"Florida\"], [\"100 Cobb Parkway\", \"Ringgold\", \"Georgia\"], [\"1550 Mall of Georgia Blvd\", \"Buford\", \"Georgia\"], [\"2900 Cumberland Mall\", \"Atlanta\", \"Georgia\"], [\"6350 Peachtree Dunwoody Rd N.E.\", \"Atlanta\", \"Georgia\"], [\"1700 Mount Zion Road\", \"Morrow\", \"Georgia\"], [\"645 Barrett Parkway\", \"Kennesaw\", \"Georgia\"], [\"3980 Venture Drive\", \"Duluth\", \"Georgia\"], [\"2855 Jordan Ct\", \"Alpharetta\", \"Georgia\"], [\"500 Brookhaven Ave\", \"Atlanta\", \"Georgia\"], [\"73-5600 Maiau Street\", \"Kailua-Kona (Hawaii)\", \"Hawaii\"], [\"333A Keahole Street\", \"Honolulu (Oahu)\", \"Hawaii\"], [\"94-1231 Ka Uka Blvd\", \"Waipahu (Oahu)\", \"Hawaii\"], [\"4300 Nuhou St\", \"Lihue\", \"Hawaii\"], [\"540 Haleakala Highway\", \"Kahului (Maui)\", \"Hawaii\"], [\"4589 Kapolei Parkway\", \"Kapolei (Oahu)\", \"Hawaii\"], [\"525 Alakawa Street\", \"Iwilei (Oahu)\", \"Hawaii\"], [\"355 East Neider Avenue\", \"Coeur D\\\\'Alene\", \"Idaho\"], [\"2051 S. Cole Road\", \"Boise\", \"Idaho\"], [\"16700 N Marketplace Blvd\", \"Nampa\", \"Idaho\"], [\"731 Pole Line Road\", \"Twin Falls\", \"Idaho\"], [\"305 West Quinn Rd\", \"Pocatello\", \"Idaho\"], [\"7311 North Melvina Ave\", \"Niles\", \"Illinois\"], [\"7300 S. Cicero Ave\", \"Bedford Park\", \"Illinois\"], [\"2746 N. Clybourn Avenue\", \"Chicago\", \"Illinois\"], [\"1901 West 22nd Street\", \"Oak Brook\", \"Illinois\"], [\"9915 W 159th St\", \"Orland Park\", \"Illinois\"], [\"1375 North Meacham Rd\", \"Schaumburg\", \"Illinois\"], [\"250 N. Randall Rd.\", \"Lake in the Hills\", \"Illinois\"], [\"505 W. Army Trail Road\", \"Bloomingdale\", \"Illinois\"], [\"680 S. Rand Road\", \"Lake Zurich\", \"Illinois\"], [\"1320 S. Route 59\", \"Naperville\", \"Illinois\"], [\"830 E Boughton Rd\", \"Bolingbrook\", \"Illinois\"], [\"221 S. Randall Rd\", \"St. Charles\", \"Illinois\"], [\"8400 W North Ave\", \"Melrose Park\", \"Illinois\"], [\"999 N. Elmhurst Road\", \"Mount Prospect\", \"Illinois\"], [\"25901 Riverwoods Rd\", \"Mettawa\", \"Illinois\"], [\"2900 Patriot Blvd\", \"Glenview\", \"Illinois\"], [\"1310 E. 79th Ave\", \"Merrillville\", \"Indiana\"], [\"9010 Michigan Road\", \"Indianapolis\", \"Indiana\"], [\"6110 East 86th Street\", \"Castleton\", \"Indiana\"], [\"7205 Mills Civic Parkway\", \"West Des Moines\", \"Iowa\"], [\"9350 Marshall Drive\", \"Lenexa\", \"Kansas\"], [\"12221 Blue Valley Parkway\", \"Overland Park\", \"Kansas\"], [\"5020 Norton Healthcare Blvd\", \"Louisville\", \"Kentucky\"], [\"2400 Five Lees Lane\", \"Lanham\", \"Maryland\"], [\"10 Monocacy Blvd.\", \"Frederick\", \"Maryland\"], [\"9919 Pulaski Highway\", \"Baltimore\", \"Maryland\"], [\"7077 Arundel Mills Circle\", \"Hanover\", \"Maryland\"], [\"6675 Marie Curie Drive\", \"Elkridge\", \"Maryland\"], [\"575 East Ordnance Road\", \"Glen Burnie\", \"Maryland\"], [\"880 Russell Avenue\", \"Gaithersburg\", \"Maryland\"], [\"10925 Baltimore Avenue (Route 1)\", \"Beltsville\", \"Maryland\"], [\"16006 Crain Highway SE\", \"Brandywine\", \"Maryland\"], [\"71 Second Avenue\", \"Waltham\", \"Massachusetts\"], [\"120 Stockwell Drive\", \"Avon\", \"Massachusetts\"], [\"400 Commercial Circle\", \"Dedham\", \"Massachusetts\"], [\"11 Newbury Street (Route 1)\", \"Danvers\", \"Massachusetts\"], [\"119 Daggett Drive\", \"West Springfield\", \"Massachusetts\"], [\"2 Mystic View Road\", \"Everett\", \"Massachusetts\"], [\"5100 28th Street SE\", \"Grand Rapids\", \"Michigan\"], [\"4901 Wilson Avenue\", \"Wyoming\", \"Michigan\"], [\"400 Brown Road\", \"Auburn Hills\", \"Michigan\"], [\"45460 Market Street\", \"Shelby Township\", \"Michigan\"], [\"2343 South Telegraph Rd\", \"Bloomfield\", \"Michigan\"], [\"20000 Haggerty Rd\", \"Livonia\", \"Michigan\"], [\"13700 Middlebelt Road\", \"Livonia\", \"Michigan\"], [\"6700 Whitmore Lake Rd\", \"Brighton\", \"Michigan\"], [\"30550 Stephenson Highway\", \"Madison Heights\", \"Michigan\"], [\"27118 Gratiot Avenue\", \"Roseville\", \"Michigan\"], [\"3000 Commerce Crossing\", \"Commerce Tnshp\", \"Michigan\"], [\"12547 Riverdale Blvd.\", \"Coon Rapids\", \"Minnesota\"], [\"5801 16th Street West\", \"St. Louis Park\", \"Minnesota\"], [\"11330 Fountains Dr N\", \"Maple Grove\", \"Minnesota\"], [\"12011 Technology Drive\", \"Eden Prairie\", \"Minnesota\"], [\"1431 Beam Ave\", \"Maplewood\", \"Minnesota\"], [\"14050 Burnhaven Dr\", \"Burnsville\", \"Minnesota\"], [\"241 East Linwood Blvd\", \"Kansas City\", \"Missouri\"], [\"19040 E. Valley View Pkwy\", \"Independence\", \"Missouri\"], [\"200 Costco Way\", \"St. Peters\", \"Missouri\"], [\"4200 Rusty Road\", \"St. Louis\", \"Missouri\"], [\"301 Highlands Blvd Drive\", \"Manchester\", \"Missouri\"], [\"2330 US Highway 93 N\", \"Kalispell\", \"Montana\"], [\"3220 Northern Pacific Avenue\", \"Missoula\", \"Montana\"], [\"2505 Catron Street\", \"Bozeman\", \"Montana\"], [\"2195 E Custer Ave\", \"Helena\", \"Montana\"], [\"2290 King Avenue West\", \"Billings\", \"Montana\"], [\"12300 West Dodge Rd\", \"Omaha\", \"Nebraska\"], [\"700 Old Clear Creek Road\", \"Carson City\", \"Nevada\"], [\"2200 Harvard Way\", \"Reno\", \"Nevada\"], [\"4810 Galleria Parkway\", \"Sparks\", \"Nevada\"], [\"801 S. Pavilion Center Drive\", \"Las Vegas\", \"Nevada\"], [\"6555 N Decatur Blvd\", \"Las Vegas\", \"Nevada\"], [\"222 S Martin Luther King Blvd\", \"Las Vegas\", \"Nevada\"], [\"791 Marks Street\", \"Henderson\", \"Nevada\"], [\"311 Daniel Webster Highway\", \"Nashua\", \"New Hampshire\"], [\"2210 Route 27 North\", \"Edison\", \"New Jersey\"], [\"325 Promenade Blvd.\", \"Bridgewater\", \"New Jersey\"], [\"465 Route 70\", \"Brick\", \"New Jersey\"], [\"100 Centerton Road\", \"Mount Laurel\", \"New Jersey\"], [\"245 Stafford Park Blvd\", \"Stafford Township\", \"New Jersey\"], [\"156 SR-10 West\", \"East Hanover\", \"New Jersey\"], [\"315 Route 15\", \"Wharton\", \"New Jersey\"], [\"2835 Route 35 South\", \"Hazlet\", \"New Jersey\"], [\"80 South River Street\", \"Hackensack\", \"New Jersey\"], [\"77 Willowbrook Boulevard\", \"Wayne\", \"New Jersey\"], [\"1055 Hudson St\", \"Union\", \"New Jersey\"], [\"20 Bridewell Place\", \"Clifton\", \"New Jersey\"], [\"500 Eubank Blvd SE\", \"Albuquerque\", \"New Mexico\"], [\"9955 Coors Bypass NW\", \"Albuquerque\", \"New Mexico\"], [\"1420 Renaissance Boulevard NE\", \"Albuquerque\", \"New Mexico\"], [\"3000 Middle Country Road\", \"Nesconset\", \"New York\"], [\"625 Broadhollow Road\", \"Melville\", \"New York\"], [\"125 Beacon Drive\", \"Holbrook\", \"New York\"], [\"10 Garret Place\", \"Commack\", \"New York\"], [\"1250 Old Country Road\", \"Westbury\", \"New York\"], [\"605 Rockaway Turnpike\", \"Lawrence\", \"New York\"], [\"976 3rd Avenue\", \"Brooklyn\", \"New York\"], [\"32-50 Vernon Boulevard\", \"Long Island City\", \"New York\"], [\"50 Overlook Boulevard\", \"Nanuet\", \"New York\"], [\"1 Industrial Lane\", \"New Rochelle\", \"New York\"], [\"20 Stew Leonard Drive\", \"Yonkers\", \"New York\"], [\"2975 Richmond Avenue\", \"Staten Island\", \"New York\"], [\"61-35 Junction Boulevard\", \"Rego Park\", \"New York\"], [\"1 Westchester Ave.\", \"Port Chester\", \"New York\"], [\"517 E 117th St\", \"New York\", \"New York\"], [\"5351 Gingerwood Dr\", \"Wilmington\", \"North Carolina\"], [\"500 Tyvola Road\", \"Charlotte\", \"North Carolina\"], [\"2125 Matthews Township Pkwy\", \"Matthews\", \"North Carolina\"], [\"1510 North Pointe Drive\", \"Durham\", \"North Carolina\"], [\"2838 Wake Forest Rd\", \"Raleigh\", \"North Carolina\"], [\"4201 West Wendover Ave\", \"Greensboro\", \"North Carolina\"], [\"1085 Hanes Mall Blvd.\", \"Winston Salem\", \"North Carolina\"], [\"9691 Waterstone Blvd\", \"Cincinnati\", \"Ohio\"], [\"1100 East Kemper Road\", \"Springdale\", \"Ohio\"], [\"1409 Golden Gate Blvd.\", \"Cleveland\", \"Ohio\"], [\"3405 West Central Ave\", \"Toledo\", \"Ohio\"], [\"1500 Gemini Place\", \"Columbus\", \"Ohio\"], [\"16690 Royalton Rd\", \"Strongsville\", \"Ohio\"], [\"35804 Detroit Road\", \"Avon\", \"Ohio\"], [\"2500 Northeast Highway 20\", \"Bend\", \"Oregon\"], [\"3639 Crater Lake Highway\", \"Medford\", \"Oregon\"], [\"2828 Chad Drive\", \"Eugene\", \"Oregon\"], [\"3130 Killdeer Ave\", \"Albany\", \"Oregon\"], [\"1010 Hawthorne Avenue SE\", \"Salem\", \"Oregon\"], [\"4849 NE 138th Ave\", \"Portland\", \"Oregon\"], [\"7855 SW Dartmouth Ave\", \"Tigard\", \"Oregon\"], [\"1255 NE 48th Ave\", \"Hillsboro\", \"Oregon\"], [\"25900 SW Heather Place\", \"Wilsonville\", \"Oregon\"], [\"13130 SE 84th Avenue\", \"Clackamas\", \"Oregon\"], [\"15901 SW Jenkins\", \"Aloha\", \"Oregon\"], [\"4141 NE Stephens\", \"Roseburg\", \"Oregon\"], [\"1804 SE Ensign Lane\", \"Warrenton\", \"Oregon\"], [\"740 Upper State Road\", \"North Wales\", \"Pennsylvania\"], [\"201 Allendale Road\", \"King of Prussia\", \"Pennsylvania\"], [\"1875 Hempstead Road\", \"Lancaster\", \"Pennsylvania\"], [\"5125 Jonestown Road Suite 221\", \"Harrisburg\", \"Pennsylvania\"], [\"1050 Cranberry Square Drive\", \"Cranberry Township\", \"Pennsylvania\"], [\"501 W Waterfront Dr\", \"West Homestead\", \"Pennsylvania\"], [\"202 Costco Drive\", \"Pittsburgh\", \"Pennsylvania\"], [\"1021 Woodruff Rd\", \"Greenville\", \"South Carolina\"], [\"1021 Oak Forest Lane\", \"Myrtle Beach\", \"South Carolina\"], [\"3050 Ashley Town Center\", \"Charleston\", \"South Carolina\"], [\"211 W Blackstock Rd\", \"Spartanburg\", \"South Carolina\"], [\"3775 Hacks Cross Road\", \"Memphis\", \"Tennessee\"], [\"2431 North Germantown Parkway\", \"Cordova\", \"Tennessee\"], [\"6670 Charlotte Pike\", \"Nashville\", \"Tennessee\"], [\"98 Seaboard Lane\", \"Brentwood\", \"Tennessee\"], [\"10401 Research Blvd\", \"Austin\", \"Texas\"], [\"5611 Utsa Blvd\", \"San Antonio\", \"Texas\"], [\"15330 IH-35 North\", \"Selma\", \"Texas\"], [\"12405 N. Gessner Rd.\", \"Houston\", \"Texas\"], [\"1150 Bunker Hill Road\", \"Houston\", \"Texas\"], [\"3836 Richmond Ave\", \"Houston\", \"Texas\"], [\"5300 Overton Ridge Blvd\", \"Fort Worth\", \"Texas\"], [\"2601 E. State Hwy 114\", \"Southlake\", \"Texas\"], [\"600 West Arbrook Blvd\", \"Arlington\", \"Texas\"], [\"1701 Dallas Pkwy\", \"Plano\", \"Texas\"], [\"3800 N. Central Expressway\", \"Plano\", \"Texas\"], [\"851 S. State Hwy 121\", \"Lewisville\", \"Texas\"], [\"6101 Gateway West Blvd\", \"El Paso\", \"Texas\"], [\"1201 N. Loop 1604 East\", \"San Antonio\", \"Texas\"], [\"250 West Highway 67\", \"Duncanville\", \"Texas\"], [\"1225 State Hwy 276\", \"Rockwall\", \"Texas\"], [\"835 North 3050 East\", \"St. George\", \"Utah\"], [\"3656 Wall Avenue\", \"Ogden\", \"Utah\"], [\"3747 South 2700 West\", \"West Valley\", \"Utah\"], [\"1818 South 300 West\", \"Salt Lake City\", \"Utah\"], [\"648 East 800 South\", \"Orem\", \"Utah\"], [\"11100 S. Auto Mall Drive\", \"Sandy\", \"Utah\"], [\"198 North 1200 East\", \"Lehi\", \"Utah\"], [\"573 West 100 North\", \"West Bountiful\", \"Utah\"], [\"5201 South Intermountain Drive\", \"Murray\", \"Utah\"], [\"218 Lower Mountain View Drive\", \"Colchester\", \"Vermont\"], [\"12121 Jefferson Avenue\", \"Newport News\", \"Virginia\"], [\"850 Glenrock Road\", \"Norfolk\", \"Virginia\"], [\"3700 Price Club Boulevard\", \"Midlothian\", \"Virginia\"], [\"9650 West Broad Street\", \"Glen Allen\", \"Virginia\"], [\"1830 Reservoir Street\", \"Harrisonburg\", \"Virginia\"], [\"251 Front Royal Pike\", \"Winchester\", \"Virginia\"], [\"1200 South Fern Street\", \"Arlington\", \"Virginia\"], [\"2700 Potomac Mills Circle - Ste 200\", \"Woodbridge\", \"Virginia\"], [\"7373 Boston Boulevard\", \"Springfield\", \"Virginia\"], [\"4725 West Ox Road\", \"Fairfax\", \"Virginia\"], [\"1300 Edwards Ferry Road\", \"Leesburg\", \"Virginia\"], [\"21398 Price/Cascades Plaza\", \"Sterling\", \"Virginia\"], [\"14390 Chantilly Crossing Lane\", \"Chantilly\", \"Virginia\"], [\"10701 Sudley Manor Drive\", \"Manassas\", \"Virginia\"], [\"3102 Plank Road #600\", \"Fredericksburg\", \"Virginia\"], [\"8629 120th Avenue NE\", \"Kirkland\", \"Washington\"], [\"301 Fifth Street\", \"Clarkston\", \"Washington\"], [\"8505A W. Gage Blvd\", \"Kennewick\", \"Washington\"], [\"5601 East Sprague Avenue\", \"Spokane\", \"Washington\"], [\"7619 North Division Street\", \"Spokane\", \"Washington\"], [\"2310 Longfibre Rd\", \"Union Gap\", \"Washington\"], [\"375 Highline Drive South\", \"East Wenatchee\", \"Washington\"], [\"6720 NE 84th Street\", \"Vancouver\", \"Washington\"], [\"1470 Marvin Rd NE\", \"Lacey\", \"Washington\"], [\"5500 Littlerock Road\", \"Tumwater\", \"Washington\"], [\"3900 20th St. East\", \"Fife\", \"Washington\"], [\"2219 South 37th Street\", \"Tacoma\", \"Washington\"], [\"10000 Mickelberry Rd. NW\", \"Silverdale\", \"Washington\"], [\"955 West Washington St\", \"Sequim\", \"Washington\"], [\"955 West Washington St\", \"Sequim\", \"Washington\"], [\"1201 39th SW\", \"Puyallup\", \"Washington\"], [\"16616 Twin Lakes Ave\", \"Marysville\", \"Washington\"], [\"1725 S. Burlington Blvd\", \"Burlington\", \"Washington\"], [\"4299 Guide Meridian Street\", \"Bellingham\", \"Washington\"], [\"10200 19th Avenue SE\", \"Everett\", \"Washington\"], [\"400 Costco Drive Suite 150\", \"Tukwila\", \"Washington\"], [\"4401 4th Avenue South\", \"Seattle\", \"Washington\"], [\"1175 North 205th Street\", \"Seattle\", \"Washington\"], [\"24008 Snohomish-Woodinville Rd SE\", \"Woodinville\", \"Washington\"], [\"19105 Highway 99\", \"Lynnwood\", \"Washington\"], [\"1801 10th Avenue NW\", \"Issaquah\", \"Washington\"], [\"35100 Enchanted Parkway South\", \"Federal Way\", \"Washington\"], [\"19610 SE 1st St\", \"Vancouver\", \"Washington\"], [\"10990 Harbor Hill Dr\", \"Gig Harbor\", \"Washington\"], [\"27520 Covington Way SE\", \"Covington\", \"Washington\"], [\"2150 Deming Way\", \"Middleton\", \"Wisconsin\"], [\"950 Port Washington Rd\", \"Grafton\", \"Wisconsin\"]], \"type\": \"scattergeo\"}],\n",
       "                        {\"geo\": {\"scope\": \"usa\"}, \"template\": {\"data\": {\"bar\": [{\"error_x\": {\"color\": \"#2a3f5f\"}, \"error_y\": {\"color\": \"#2a3f5f\"}, \"marker\": {\"line\": {\"color\": \"#E5ECF6\", \"width\": 0.5}}, \"type\": \"bar\"}], \"barpolar\": [{\"marker\": {\"line\": {\"color\": \"#E5ECF6\", \"width\": 0.5}}, \"type\": \"barpolar\"}], \"carpet\": [{\"aaxis\": {\"endlinecolor\": \"#2a3f5f\", \"gridcolor\": \"white\", \"linecolor\": \"white\", \"minorgridcolor\": \"white\", \"startlinecolor\": \"#2a3f5f\"}, \"baxis\": {\"endlinecolor\": \"#2a3f5f\", \"gridcolor\": \"white\", \"linecolor\": \"white\", \"minorgridcolor\": \"white\", \"startlinecolor\": \"#2a3f5f\"}, \"type\": \"carpet\"}], \"choropleth\": [{\"colorbar\": {\"outlinewidth\": 0, \"ticks\": \"\"}, \"type\": \"choropleth\"}], \"contour\": [{\"colorbar\": {\"outlinewidth\": 0, \"ticks\": \"\"}, \"colorscale\": [[0.0, \"#0d0887\"], [0.1111111111111111, \"#46039f\"], [0.2222222222222222, \"#7201a8\"], [0.3333333333333333, \"#9c179e\"], [0.4444444444444444, \"#bd3786\"], [0.5555555555555556, \"#d8576b\"], [0.6666666666666666, \"#ed7953\"], [0.7777777777777778, \"#fb9f3a\"], [0.8888888888888888, \"#fdca26\"], [1.0, \"#f0f921\"]], \"type\": \"contour\"}], \"contourcarpet\": [{\"colorbar\": {\"outlinewidth\": 0, \"ticks\": \"\"}, \"type\": \"contourcarpet\"}], \"heatmap\": [{\"colorbar\": {\"outlinewidth\": 0, \"ticks\": \"\"}, \"colorscale\": [[0.0, \"#0d0887\"], [0.1111111111111111, \"#46039f\"], [0.2222222222222222, \"#7201a8\"], [0.3333333333333333, \"#9c179e\"], [0.4444444444444444, \"#bd3786\"], [0.5555555555555556, \"#d8576b\"], [0.6666666666666666, \"#ed7953\"], [0.7777777777777778, \"#fb9f3a\"], [0.8888888888888888, \"#fdca26\"], [1.0, \"#f0f921\"]], \"type\": \"heatmap\"}], \"heatmapgl\": [{\"colorbar\": {\"outlinewidth\": 0, \"ticks\": \"\"}, \"colorscale\": [[0.0, \"#0d0887\"], [0.1111111111111111, \"#46039f\"], [0.2222222222222222, \"#7201a8\"], [0.3333333333333333, \"#9c179e\"], [0.4444444444444444, \"#bd3786\"], [0.5555555555555556, \"#d8576b\"], [0.6666666666666666, \"#ed7953\"], [0.7777777777777778, \"#fb9f3a\"], [0.8888888888888888, \"#fdca26\"], [1.0, \"#f0f921\"]], \"type\": \"heatmapgl\"}], \"histogram\": [{\"marker\": {\"colorbar\": {\"outlinewidth\": 0, \"ticks\": \"\"}}, \"type\": \"histogram\"}], \"histogram2d\": [{\"colorbar\": {\"outlinewidth\": 0, \"ticks\": \"\"}, \"colorscale\": [[0.0, \"#0d0887\"], [0.1111111111111111, \"#46039f\"], [0.2222222222222222, \"#7201a8\"], [0.3333333333333333, \"#9c179e\"], [0.4444444444444444, \"#bd3786\"], [0.5555555555555556, \"#d8576b\"], [0.6666666666666666, \"#ed7953\"], [0.7777777777777778, \"#fb9f3a\"], [0.8888888888888888, \"#fdca26\"], [1.0, \"#f0f921\"]], \"type\": \"histogram2d\"}], \"histogram2dcontour\": [{\"colorbar\": {\"outlinewidth\": 0, \"ticks\": \"\"}, \"colorscale\": [[0.0, \"#0d0887\"], [0.1111111111111111, \"#46039f\"], [0.2222222222222222, \"#7201a8\"], [0.3333333333333333, \"#9c179e\"], [0.4444444444444444, \"#bd3786\"], [0.5555555555555556, \"#d8576b\"], [0.6666666666666666, \"#ed7953\"], [0.7777777777777778, \"#fb9f3a\"], [0.8888888888888888, \"#fdca26\"], [1.0, \"#f0f921\"]], \"type\": \"histogram2dcontour\"}], \"mesh3d\": [{\"colorbar\": {\"outlinewidth\": 0, \"ticks\": \"\"}, \"type\": \"mesh3d\"}], \"parcoords\": [{\"line\": {\"colorbar\": {\"outlinewidth\": 0, \"ticks\": \"\"}}, \"type\": \"parcoords\"}], \"scatter\": [{\"marker\": {\"colorbar\": {\"outlinewidth\": 0, \"ticks\": \"\"}}, \"type\": \"scatter\"}], \"scatter3d\": [{\"line\": {\"colorbar\": {\"outlinewidth\": 0, \"ticks\": \"\"}}, \"marker\": {\"colorbar\": {\"outlinewidth\": 0, \"ticks\": \"\"}}, \"type\": \"scatter3d\"}], \"scattercarpet\": [{\"marker\": {\"colorbar\": {\"outlinewidth\": 0, \"ticks\": \"\"}}, \"type\": \"scattercarpet\"}], \"scattergeo\": [{\"marker\": {\"colorbar\": {\"outlinewidth\": 0, \"ticks\": \"\"}}, \"type\": \"scattergeo\"}], \"scattergl\": [{\"marker\": {\"colorbar\": {\"outlinewidth\": 0, \"ticks\": \"\"}}, \"type\": \"scattergl\"}], \"scattermapbox\": [{\"marker\": {\"colorbar\": {\"outlinewidth\": 0, \"ticks\": \"\"}}, \"type\": \"scattermapbox\"}], \"scatterpolar\": [{\"marker\": {\"colorbar\": {\"outlinewidth\": 0, \"ticks\": \"\"}}, \"type\": \"scatterpolar\"}], \"scatterpolargl\": [{\"marker\": {\"colorbar\": {\"outlinewidth\": 0, \"ticks\": \"\"}}, \"type\": \"scatterpolargl\"}], \"scatterternary\": [{\"marker\": {\"colorbar\": {\"outlinewidth\": 0, \"ticks\": \"\"}}, \"type\": \"scatterternary\"}], \"surface\": [{\"colorbar\": {\"outlinewidth\": 0, \"ticks\": \"\"}, \"colorscale\": [[0.0, \"#0d0887\"], [0.1111111111111111, \"#46039f\"], [0.2222222222222222, \"#7201a8\"], [0.3333333333333333, \"#9c179e\"], [0.4444444444444444, \"#bd3786\"], [0.5555555555555556, \"#d8576b\"], [0.6666666666666666, \"#ed7953\"], [0.7777777777777778, \"#fb9f3a\"], [0.8888888888888888, \"#fdca26\"], [1.0, \"#f0f921\"]], \"type\": \"surface\"}], \"table\": [{\"cells\": {\"fill\": {\"color\": \"#EBF0F8\"}, \"line\": {\"color\": \"white\"}}, \"header\": {\"fill\": {\"color\": \"#C8D4E3\"}, \"line\": {\"color\": \"white\"}}, \"type\": \"table\"}]}, \"layout\": {\"annotationdefaults\": {\"arrowcolor\": \"#2a3f5f\", \"arrowhead\": 0, \"arrowwidth\": 1}, \"colorscale\": {\"diverging\": [[0, \"#8e0152\"], [0.1, \"#c51b7d\"], [0.2, \"#de77ae\"], [0.3, \"#f1b6da\"], [0.4, \"#fde0ef\"], [0.5, \"#f7f7f7\"], [0.6, \"#e6f5d0\"], [0.7, \"#b8e186\"], [0.8, \"#7fbc41\"], [0.9, \"#4d9221\"], [1, \"#276419\"]], \"sequential\": [[0.0, \"#0d0887\"], [0.1111111111111111, \"#46039f\"], [0.2222222222222222, \"#7201a8\"], [0.3333333333333333, \"#9c179e\"], [0.4444444444444444, \"#bd3786\"], [0.5555555555555556, \"#d8576b\"], [0.6666666666666666, \"#ed7953\"], [0.7777777777777778, \"#fb9f3a\"], [0.8888888888888888, \"#fdca26\"], [1.0, \"#f0f921\"]], \"sequentialminus\": [[0.0, \"#0d0887\"], [0.1111111111111111, \"#46039f\"], [0.2222222222222222, \"#7201a8\"], [0.3333333333333333, \"#9c179e\"], [0.4444444444444444, \"#bd3786\"], [0.5555555555555556, \"#d8576b\"], [0.6666666666666666, \"#ed7953\"], [0.7777777777777778, \"#fb9f3a\"], [0.8888888888888888, \"#fdca26\"], [1.0, \"#f0f921\"]]}, \"colorway\": [\"#636efa\", \"#EF553B\", \"#00cc96\", \"#ab63fa\", \"#FFA15A\", \"#19d3f3\", \"#FF6692\", \"#B6E880\", \"#FF97FF\", \"#FECB52\"], \"font\": {\"color\": \"#2a3f5f\"}, \"geo\": {\"bgcolor\": \"white\", \"lakecolor\": \"white\", \"landcolor\": \"#E5ECF6\", \"showlakes\": true, \"showland\": true, \"subunitcolor\": \"white\"}, \"hoverlabel\": {\"align\": \"left\"}, \"hovermode\": \"closest\", \"mapbox\": {\"style\": \"light\"}, \"paper_bgcolor\": \"white\", \"plot_bgcolor\": \"#E5ECF6\", \"polar\": {\"angularaxis\": {\"gridcolor\": \"white\", \"linecolor\": \"white\", \"ticks\": \"\"}, \"bgcolor\": \"#E5ECF6\", \"radialaxis\": {\"gridcolor\": \"white\", \"linecolor\": \"white\", \"ticks\": \"\"}}, \"scene\": {\"xaxis\": {\"backgroundcolor\": \"#E5ECF6\", \"gridcolor\": \"white\", \"gridwidth\": 2, \"linecolor\": \"white\", \"showbackground\": true, \"ticks\": \"\", \"zerolinecolor\": \"white\"}, \"yaxis\": {\"backgroundcolor\": \"#E5ECF6\", \"gridcolor\": \"white\", \"gridwidth\": 2, \"linecolor\": \"white\", \"showbackground\": true, \"ticks\": \"\", \"zerolinecolor\": \"white\"}, \"zaxis\": {\"backgroundcolor\": \"#E5ECF6\", \"gridcolor\": \"white\", \"gridwidth\": 2, \"linecolor\": \"white\", \"showbackground\": true, \"ticks\": \"\", \"zerolinecolor\": \"white\"}}, \"shapedefaults\": {\"line\": {\"color\": \"#2a3f5f\"}}, \"ternary\": {\"aaxis\": {\"gridcolor\": \"white\", \"linecolor\": \"white\", \"ticks\": \"\"}, \"baxis\": {\"gridcolor\": \"white\", \"linecolor\": \"white\", \"ticks\": \"\"}, \"bgcolor\": \"#E5ECF6\", \"caxis\": {\"gridcolor\": \"white\", \"linecolor\": \"white\", \"ticks\": \"\"}}, \"title\": {\"x\": 0.05}, \"xaxis\": {\"automargin\": true, \"gridcolor\": \"white\", \"linecolor\": \"white\", \"ticks\": \"\", \"zerolinecolor\": \"white\", \"zerolinewidth\": 2}, \"yaxis\": {\"automargin\": true, \"gridcolor\": \"white\", \"linecolor\": \"white\", \"ticks\": \"\", \"zerolinecolor\": \"white\", \"zerolinewidth\": 2}}}, \"title\": {\"text\": \"Costco Locations in the USA\"}},\n",
       "                        {\"responsive\": true}\n",
       "                    ).then(function(){\n",
       "                            \n",
       "var gd = document.getElementById('540c523c-df8a-483a-b4bf-1a431743ef2f');\n",
       "var x = new MutationObserver(function (mutations, observer) {{\n",
       "        var display = window.getComputedStyle(gd).display;\n",
       "        if (!display || display === 'none') {{\n",
       "            console.log([gd, 'removed!']);\n",
       "            Plotly.purge(gd);\n",
       "            observer.disconnect();\n",
       "        }}\n",
       "}});\n",
       "\n",
       "// Listen for the removal of the full notebook cells\n",
       "var notebookContainer = gd.closest('#notebook-container');\n",
       "if (notebookContainer) {{\n",
       "    x.observe(notebookContainer, {childList: true});\n",
       "}}\n",
       "\n",
       "// Listen for the clearing of the current output cell\n",
       "var outputEl = gd.closest('.output');\n",
       "if (outputEl) {{\n",
       "    x.observe(outputEl, {childList: true});\n",
       "}}\n",
       "\n",
       "                        })\n",
       "                };\n",
       "                });\n",
       "            </script>\n",
       "        </div>"
      ]
     },
     "metadata": {},
     "output_type": "display_data"
    }
   ],
   "source": [
    "# importing library\n",
    "import plotly.graph_objects as go\n",
    "\n",
    "fig = go.Figure(data=go.Scattergeo(\n",
    "    locationmode = 'USA-states',\n",
    "    lon = df1['Longitude'],\n",
    "    lat = df1['Latitude'],\n",
    "    text = df1[['Address','City','State']],\n",
    "    mode = 'markers',\n",
    "    marker_color = \"red\"\n",
    "    ))\n",
    "\n",
    "fig.update_layout(\n",
    "        title = 'Costco Locations in the USA',\n",
    "        geo_scope='usa'\n",
    "    )\n",
    "fig.show()"
   ]
  },
  {
   "cell_type": "code",
   "execution_count": 85,
   "metadata": {},
   "outputs": [
    {
     "data": {
      "image/png": "[encoded data removed]",
      "text/plain": [
       "<Figure size 432x288 with 1 Axes>"
      ]
     },
     "metadata": {
      "needs_background": "light"
     },
     "output_type": "display_data"
    }
   ],
   "source": [
    "# countour chart\n",
    "# defining function to calculate square root of two parameters\n",
    "def f(a, b):\n",
    "    \"\"\"\n",
    "    Args:\n",
    "        two numpy arrays (a, b)\n",
    "    Returns:\n",
    "        square root of sum of square of a and b\n",
    "    \"\"\"\n",
    "    return np.sqrt(a**2 + b**2)\n",
    "\n",
    "x = np.array(df['FTA'])\n",
    "y = np.array(df['FTM'])\n",
    "\n",
    "X, Y = np.meshgrid(x, y)\n",
    "Z = f(X, Y)\n",
    "\n",
    "plt.figure()\n",
    "cp = plt.contour(X, Y, Z)\n",
    "plt.clabel(cp, inline=True, \n",
    "          fontsize=10)\n",
    "plt.title('Contour Plot using python')\n",
    "plt.xlabel('FTA')\n",
    "plt.ylabel('FTM')\n",
    "plt.show()"
   ]
  },
  {
   "cell_type": "code",
   "execution_count": null,
   "metadata": {},
   "outputs": [],
   "source": [
    "# Thanks !!!"
   ]
  }
 ],
 "metadata": {
  "kernelspec": {
   "display_name": "Python 3",
   "language": "python",
   "name": "python3"
  },
  "language_info": {
   "codemirror_mode": {
    "name": "ipython",
    "version": 3
   },
   "file_extension": ".py",
   "mimetype": "text/x-python",
   "name": "python",
   "nbconvert_exporter": "python",
   "pygments_lexer": "ipython3",
   "version": "3.7.4"
  }
 },
 "nbformat": 4,
 "nbformat_minor": 2
}
